{
 "cells": [
  {
   "cell_type": "code",
   "execution_count": 1,
   "id": "5c807ab8-0cf2-4df4-82a1-e3306a8bda7e",
   "metadata": {
    "colab": {
     "base_uri": "https://localhost:8080/"
    },
    "id": "5c807ab8-0cf2-4df4-82a1-e3306a8bda7e",
    "outputId": "47cebb30-b690-4317-a277-03ef04c16dc1"
   },
   "outputs": [
    {
     "name": "stdout",
     "output_type": "stream",
     "text": [
      "Requirement already satisfied: matplotlib in /opt/mamba/lib/python3.11/site-packages (3.8.4)\n",
      "Requirement already satisfied: contourpy>=1.0.1 in /opt/mamba/lib/python3.11/site-packages (from matplotlib) (1.2.1)\n",
      "Requirement already satisfied: cycler>=0.10 in /opt/mamba/lib/python3.11/site-packages (from matplotlib) (0.12.1)\n",
      "Requirement already satisfied: fonttools>=4.22.0 in /opt/mamba/lib/python3.11/site-packages (from matplotlib) (4.51.0)\n",
      "Requirement already satisfied: kiwisolver>=1.3.1 in /opt/mamba/lib/python3.11/site-packages (from matplotlib) (1.4.5)\n",
      "Requirement already satisfied: numpy>=1.21 in /opt/mamba/lib/python3.11/site-packages (from matplotlib) (1.26.4)\n",
      "Requirement already satisfied: packaging>=20.0 in /opt/mamba/lib/python3.11/site-packages (from matplotlib) (24.0)\n",
      "Requirement already satisfied: pillow>=8 in /opt/mamba/lib/python3.11/site-packages (from matplotlib) (10.3.0)\n",
      "Requirement already satisfied: pyparsing>=2.3.1 in /opt/mamba/lib/python3.11/site-packages (from matplotlib) (3.1.2)\n",
      "Requirement already satisfied: python-dateutil>=2.7 in /opt/mamba/lib/python3.11/site-packages (from matplotlib) (2.9.0)\n",
      "Requirement already satisfied: six>=1.5 in /opt/mamba/lib/python3.11/site-packages (from python-dateutil>=2.7->matplotlib) (1.16.0)\n"
     ]
    },
    {
     "name": "stderr",
     "output_type": "stream",
     "text": [
      "2024-04-09 15:21:06.607774: I tensorflow/core/util/port.cc:113] oneDNN custom operations are on. You may see slightly different numerical results due to floating-point round-off errors from different computation orders. To turn them off, set the environment variable `TF_ENABLE_ONEDNN_OPTS=0`.\n",
      "2024-04-09 15:21:06.698612: I tensorflow/core/platform/cpu_feature_guard.cc:210] This TensorFlow binary is optimized to use available CPU instructions in performance-critical operations.\n",
      "To enable the following instructions: AVX2 AVX512F AVX512_VNNI FMA, in other operations, rebuild TensorFlow with the appropriate compiler flags.\n",
      "2024-04-09 15:21:07.890925: W tensorflow/compiler/tf2tensorrt/utils/py_utils.cc:38] TF-TRT Warning: Could not find TensorRT\n"
     ]
    }
   ],
   "source": [
    "!pip install matplotlib\n",
    "import numpy as np\n",
    "import matplotlib.pyplot as plt\n",
    "import tensorflow as tf\n",
    "from tensorflow.keras.applications import ResNet50V2\n",
    "from tensorflow.keras.datasets import cifar100\n",
    "from tensorflow.keras import Sequential, Input\n",
    "from tensorflow.keras.layers import Dense, UpSampling2D, Dropout, BatchNormalization, RandomFlip, RandomTranslation, RandomRotation,RandomBrightness, RandomContrast, RandomZoom\n",
    "from tensorflow.keras.callbacks import EarlyStopping, CSVLogger, ModelCheckpoint\n",
    "from tensorflow.keras.applications.resnet_v2 import preprocess_input\n",
    "import re"
   ]
  },
  {
   "cell_type": "code",
   "execution_count": 2,
   "id": "35c445a8-5f01-4778-b05d-b621584968ed",
   "metadata": {
    "id": "35c445a8-5f01-4778-b05d-b621584968ed"
   },
   "outputs": [],
   "source": [
    "n_epoch = 100\n",
    "batch_size = 100\n",
    "taux_validation = 0.1\n",
    "num_classes = 100\n",
    "n_images = 50000 # Pour l'entrainement, et 10000 pour le test"
   ]
  },
  {
   "cell_type": "code",
   "execution_count": 3,
   "id": "9a44d7d2-b92d-45c2-b811-b1665944a5ac",
   "metadata": {
    "id": "9a44d7d2-b92d-45c2-b811-b1665944a5ac"
   },
   "outputs": [
    {
     "name": "stderr",
     "output_type": "stream",
     "text": [
      "2024-04-09 15:21:08.903911: I tensorflow/core/common_runtime/gpu/gpu_device.cc:1928] Created device /job:localhost/replica:0/task:0/device:GPU:0 with 12041 MB memory:  -> device: 0, name: NVIDIA A2, pci bus id: 0000:b1:00.0, compute capability: 8.6\n"
     ]
    }
   ],
   "source": [
    "def preprocessing(image, label):\n",
    "    image = tf.image.resize(image, (224, 224))\n",
    "    label = tf.squeeze(tf.one_hot(label, depth = num_classes), axis = 0)\n",
    "    return  image, label\n",
    "\n",
    "augmentation_donnees_keras = Sequential([\n",
    "    RandomFlip(\"horizontal\"),\n",
    "    RandomTranslation(0.2,0.2),\n",
    "    RandomRotation(0.2),\n",
    "    RandomZoom(0.2),\n",
    "    RandomContrast(0.2),\n",
    "    RandomBrightness(0.2,value_range=(0,1))\n",
    "])\n",
    "\n",
    "def augmentation_donnees(image, label):\n",
    "    return augmentation_donnees_keras(image/255.0, training = True)*255.0, label\n",
    "\n",
    "def preprocess_resnet(image, label):\n",
    "    return preprocess_input(image), label\n",
    "\n",
    "train_dataset, test_dataset = cifar100.load_data()\n",
    "\n",
    "validation_size = int(n_images * taux_validation)\n",
    "train_dataset = tf.data.Dataset.from_tensor_slices(train_dataset).map(preprocessing).shuffle(n_images, reshuffle_each_iteration=False)\n",
    "test_dataset = tf.data.Dataset.from_tensor_slices(test_dataset).map(preprocessing)\n",
    "\n",
    "validation_dataset = train_dataset.take(validation_size).cache().batch(batch_size).map(preprocess_resnet).prefetch(tf.data.AUTOTUNE)\n",
    "train_dataset = train_dataset.skip(validation_size).cache().batch(batch_size).map(augmentation_donnees,num_parallel_calls=tf.data.AUTOTUNE).map(preprocess_resnet, num_parallel_calls=tf.data.AUTOTUNE).prefetch(tf.data.AUTOTUNE)\n",
    "test_dataset = test_dataset.batch(batch_size).map(preprocess_resnet, num_parallel_calls=tf.data.AUTOTUNE).prefetch(tf.data.AUTOTUNE)"
   ]
  },
  {
   "cell_type": "code",
   "execution_count": 4,
   "id": "0bcGLfqrn-lx",
   "metadata": {
    "id": "0bcGLfqrn-lx"
   },
   "outputs": [],
   "source": [
    "model = Sequential([\n",
    "    ResNet50V2(include_top=False, weights='imagenet', pooling=\"avg\"),\n",
    "    Dropout(0.25),\n",
    "    Dense(256, activation=\"sigmoid\", kernel_regularizer = tf.keras.regularizers.L1(0.001)),\n",
    "    Dropout(0.5),\n",
    "    Dense(num_classes, activation=\"softmax\", kernel_regularizer = tf.keras.regularizers.L2(0.001))\n",
    "])"
   ]
  },
  {
   "cell_type": "code",
   "execution_count": 5,
   "id": "e0a724f8-2849-48b8-b948-13194a4f8f78",
   "metadata": {
    "colab": {
     "base_uri": "https://localhost:8080/"
    },
    "id": "e0a724f8-2849-48b8-b948-13194a4f8f78",
    "outputId": "353ab947-f129-464a-c9e5-c9a6ffc57664"
   },
   "outputs": [
    {
     "name": "stdout",
     "output_type": "stream",
     "text": [
      "Epoch 1/100\n"
     ]
    },
    {
     "name": "stderr",
     "output_type": "stream",
     "text": [
      "WARNING: All log messages before absl::InitializeLog() is called are written to STDERR\n",
      "I0000 00:00:1712676100.386500  112418 service.cc:145] XLA service 0x7f2fc40022e0 initialized for platform CUDA (this does not guarantee that XLA will be used). Devices:\n",
      "I0000 00:00:1712676100.386556  112418 service.cc:153]   StreamExecutor device (0): NVIDIA A2, Compute Capability 8.6\n",
      "2024-04-09 15:21:41.425726: I tensorflow/compiler/mlir/tensorflow/utils/dump_mlir_util.cc:268] disabling MLIR crash reproducer, set env var `MLIR_CRASH_REPRODUCER_DIRECTORY` to enable.\n",
      "2024-04-09 15:21:59.620509: I external/local_xla/xla/stream_executor/cuda/cuda_dnn.cc:465] Loaded cuDNN version 8900\n",
      "WARNING: All log messages before absl::InitializeLog() is called are written to STDERR\n",
      "I0000 00:00:1712676127.737528  112630 asm_compiler.cc:369] ptxas warning : Registers are spilled to local memory in function 'triton_gemm_dot_15283', 108 bytes spill stores, 108 bytes spill loads\n",
      "\n",
      "I0000 00:00:1712676128.024296  112622 asm_compiler.cc:369] ptxas warning : Registers are spilled to local memory in function 'triton_gemm_dot_21685', 4 bytes spill stores, 4 bytes spill loads\n",
      "\n",
      "I0000 00:00:1712676128.085459  112648 asm_compiler.cc:369] ptxas warning : Registers are spilled to local memory in function 'triton_gemm_dot_21685', 208 bytes spill stores, 208 bytes spill loads\n",
      "\n",
      "I0000 00:00:1712676175.631016  112418 device_compiler.h:188] Compiled cluster using XLA!  This line is logged at most once for the lifetime of the process.\n"
     ]
    },
    {
     "name": "stdout",
     "output_type": "stream",
     "text": [
      "\u001b[1m450/450\u001b[0m \u001b[32m━━━━━━━━━━━━━━━━━━━━\u001b[0m\u001b[37m\u001b[0m \u001b[1m0s\u001b[0m 565ms/step - accuracy: 0.1590 - loss: 7.5709"
     ]
    },
    {
     "name": "stderr",
     "output_type": "stream",
     "text": [
      "I0000 00:00:1712676438.512738  113068 asm_compiler.cc:369] ptxas warning : Registers are spilled to local memory in function 'triton_gemm_dot_1542', 16 bytes spill stores, 16 bytes spill loads\n",
      "\n",
      "I0000 00:00:1712676438.868252  113052 asm_compiler.cc:369] ptxas warning : Registers are spilled to local memory in function 'triton_gemm_dot_1542', 244 bytes spill stores, 244 bytes spill loads\n",
      "\n",
      "I0000 00:00:1712676439.097846  113053 asm_compiler.cc:369] ptxas warning : Registers are spilled to local memory in function 'triton_gemm_dot_1542', 300 bytes spill stores, 184 bytes spill loads\n",
      "\n"
     ]
    },
    {
     "name": "stdout",
     "output_type": "stream",
     "text": [
      "\u001b[1m450/450\u001b[0m \u001b[32m━━━━━━━━━━━━━━━━━━━━\u001b[0m\u001b[37m\u001b[0m \u001b[1m381s\u001b[0m 619ms/step - accuracy: 0.1591 - loss: 7.5655 - val_accuracy: 0.3848 - val_loss: 3.4939\n",
      "Epoch 2/100\n",
      "\u001b[1m450/450\u001b[0m \u001b[32m━━━━━━━━━━━━━━━━━━━━\u001b[0m\u001b[37m\u001b[0m \u001b[1m287s\u001b[0m 633ms/step - accuracy: 0.3568 - loss: 3.7107 - val_accuracy: 0.5196 - val_loss: 2.9294\n",
      "Epoch 3/100\n",
      "\u001b[1m450/450\u001b[0m \u001b[32m━━━━━━━━━━━━━━━━━━━━\u001b[0m\u001b[37m\u001b[0m \u001b[1m282s\u001b[0m 621ms/step - accuracy: 0.4308 - loss: 3.3829 - val_accuracy: 0.5640 - val_loss: 2.7393\n",
      "Epoch 4/100\n",
      "\u001b[1m450/450\u001b[0m \u001b[32m━━━━━━━━━━━━━━━━━━━━\u001b[0m\u001b[37m\u001b[0m \u001b[1m282s\u001b[0m 621ms/step - accuracy: 0.4709 - loss: 3.1943 - val_accuracy: 0.5934 - val_loss: 2.6291\n",
      "Epoch 5/100\n",
      "\u001b[1m450/450\u001b[0m \u001b[32m━━━━━━━━━━━━━━━━━━━━\u001b[0m\u001b[37m\u001b[0m \u001b[1m279s\u001b[0m 617ms/step - accuracy: 0.5084 - loss: 3.0462 - val_accuracy: 0.6146 - val_loss: 2.5449\n",
      "Epoch 6/100\n",
      "\u001b[1m450/450\u001b[0m \u001b[32m━━━━━━━━━━━━━━━━━━━━\u001b[0m\u001b[37m\u001b[0m \u001b[1m281s\u001b[0m 619ms/step - accuracy: 0.5361 - loss: 2.9204 - val_accuracy: 0.6408 - val_loss: 2.4491\n",
      "Epoch 7/100\n",
      "\u001b[1m450/450\u001b[0m \u001b[32m━━━━━━━━━━━━━━━━━━━━\u001b[0m\u001b[37m\u001b[0m \u001b[1m283s\u001b[0m 625ms/step - accuracy: 0.5598 - loss: 2.8238 - val_accuracy: 0.6506 - val_loss: 2.3693\n",
      "Epoch 8/100\n",
      "\u001b[1m450/450\u001b[0m \u001b[32m━━━━━━━━━━━━━━━━━━━━\u001b[0m\u001b[37m\u001b[0m \u001b[1m276s\u001b[0m 608ms/step - accuracy: 0.5825 - loss: 2.7259 - val_accuracy: 0.6558 - val_loss: 2.3280\n",
      "Epoch 9/100\n",
      "\u001b[1m450/450\u001b[0m \u001b[32m━━━━━━━━━━━━━━━━━━━━\u001b[0m\u001b[37m\u001b[0m \u001b[1m277s\u001b[0m 612ms/step - accuracy: 0.6001 - loss: 2.6406 - val_accuracy: 0.6706 - val_loss: 2.2831\n",
      "Epoch 10/100\n",
      "\u001b[1m450/450\u001b[0m \u001b[32m━━━━━━━━━━━━━━━━━━━━\u001b[0m\u001b[37m\u001b[0m \u001b[1m280s\u001b[0m 616ms/step - accuracy: 0.6095 - loss: 2.5935 - val_accuracy: 0.6814 - val_loss: 2.2231\n",
      "Epoch 11/100\n",
      "\u001b[1m450/450\u001b[0m \u001b[32m━━━━━━━━━━━━━━━━━━━━\u001b[0m\u001b[37m\u001b[0m \u001b[1m280s\u001b[0m 616ms/step - accuracy: 0.6263 - loss: 2.5206 - val_accuracy: 0.6984 - val_loss: 2.1809\n",
      "Epoch 12/100\n",
      "\u001b[1m450/450\u001b[0m \u001b[32m━━━━━━━━━━━━━━━━━━━━\u001b[0m\u001b[37m\u001b[0m \u001b[1m282s\u001b[0m 623ms/step - accuracy: 0.6406 - loss: 2.4556 - val_accuracy: 0.6962 - val_loss: 2.1271\n",
      "Epoch 13/100\n",
      "\u001b[1m450/450\u001b[0m \u001b[32m━━━━━━━━━━━━━━━━━━━━\u001b[0m\u001b[37m\u001b[0m \u001b[1m275s\u001b[0m 606ms/step - accuracy: 0.6507 - loss: 2.3860 - val_accuracy: 0.6922 - val_loss: 2.1589\n",
      "Epoch 14/100\n",
      "\u001b[1m450/450\u001b[0m \u001b[32m━━━━━━━━━━━━━━━━━━━━\u001b[0m\u001b[37m\u001b[0m \u001b[1m279s\u001b[0m 614ms/step - accuracy: 0.6581 - loss: 2.3518 - val_accuracy: 0.7146 - val_loss: 2.0660\n",
      "Epoch 15/100\n",
      "\u001b[1m450/450\u001b[0m \u001b[32m━━━━━━━━━━━━━━━━━━━━\u001b[0m\u001b[37m\u001b[0m \u001b[1m277s\u001b[0m 609ms/step - accuracy: 0.6704 - loss: 2.2938 - val_accuracy: 0.7016 - val_loss: 2.0819\n",
      "Epoch 16/100\n",
      "\u001b[1m450/450\u001b[0m \u001b[32m━━━━━━━━━━━━━━━━━━━━\u001b[0m\u001b[37m\u001b[0m \u001b[1m279s\u001b[0m 616ms/step - accuracy: 0.6895 - loss: 2.2217 - val_accuracy: 0.7178 - val_loss: 2.0325\n",
      "Epoch 17/100\n",
      "\u001b[1m450/450\u001b[0m \u001b[32m━━━━━━━━━━━━━━━━━━━━\u001b[0m\u001b[37m\u001b[0m \u001b[1m277s\u001b[0m 611ms/step - accuracy: 0.6925 - loss: 2.1954 - val_accuracy: 0.7076 - val_loss: 2.0523\n",
      "Epoch 18/100\n",
      "\u001b[1m450/450\u001b[0m \u001b[32m━━━━━━━━━━━━━━━━━━━━\u001b[0m\u001b[37m\u001b[0m \u001b[1m278s\u001b[0m 614ms/step - accuracy: 0.6972 - loss: 2.1772 - val_accuracy: 0.7170 - val_loss: 2.0217\n",
      "Epoch 19/100\n",
      "\u001b[1m450/450\u001b[0m \u001b[32m━━━━━━━━━━━━━━━━━━━━\u001b[0m\u001b[37m\u001b[0m \u001b[1m279s\u001b[0m 617ms/step - accuracy: 0.7096 - loss: 2.1108 - val_accuracy: 0.7146 - val_loss: 2.0071\n",
      "Epoch 20/100\n",
      "\u001b[1m450/450\u001b[0m \u001b[32m━━━━━━━━━━━━━━━━━━━━\u001b[0m\u001b[37m\u001b[0m \u001b[1m277s\u001b[0m 611ms/step - accuracy: 0.7113 - loss: 2.0874 - val_accuracy: 0.7190 - val_loss: 1.9809\n",
      "Epoch 21/100\n",
      "\u001b[1m450/450\u001b[0m \u001b[32m━━━━━━━━━━━━━━━━━━━━\u001b[0m\u001b[37m\u001b[0m \u001b[1m275s\u001b[0m 607ms/step - accuracy: 0.7232 - loss: 2.0445 - val_accuracy: 0.7228 - val_loss: 1.9836\n",
      "Epoch 22/100\n",
      "\u001b[1m450/450\u001b[0m \u001b[32m━━━━━━━━━━━━━━━━━━━━\u001b[0m\u001b[37m\u001b[0m \u001b[1m279s\u001b[0m 615ms/step - accuracy: 0.7276 - loss: 2.0130 - val_accuracy: 0.7220 - val_loss: 1.9434\n",
      "Epoch 23/100\n",
      "\u001b[1m450/450\u001b[0m \u001b[32m━━━━━━━━━━━━━━━━━━━━\u001b[0m\u001b[37m\u001b[0m \u001b[1m278s\u001b[0m 613ms/step - accuracy: 0.7381 - loss: 1.9681 - val_accuracy: 0.7246 - val_loss: 1.9418\n",
      "Epoch 24/100\n",
      "\u001b[1m450/450\u001b[0m \u001b[32m━━━━━━━━━━━━━━━━━━━━\u001b[0m\u001b[37m\u001b[0m \u001b[1m277s\u001b[0m 611ms/step - accuracy: 0.7411 - loss: 1.9498 - val_accuracy: 0.7370 - val_loss: 1.9152\n",
      "Epoch 25/100\n",
      "\u001b[1m450/450\u001b[0m \u001b[32m━━━━━━━━━━━━━━━━━━━━\u001b[0m\u001b[37m\u001b[0m \u001b[1m277s\u001b[0m 612ms/step - accuracy: 0.7474 - loss: 1.9196 - val_accuracy: 0.7230 - val_loss: 1.9215\n",
      "Epoch 26/100\n",
      "\u001b[1m450/450\u001b[0m \u001b[32m━━━━━━━━━━━━━━━━━━━━\u001b[0m\u001b[37m\u001b[0m \u001b[1m280s\u001b[0m 619ms/step - accuracy: 0.7494 - loss: 1.9051 - val_accuracy: 0.7338 - val_loss: 1.9004\n",
      "Epoch 27/100\n",
      "\u001b[1m450/450\u001b[0m \u001b[32m━━━━━━━━━━━━━━━━━━━━\u001b[0m\u001b[37m\u001b[0m \u001b[1m282s\u001b[0m 622ms/step - accuracy: 0.7581 - loss: 1.8624 - val_accuracy: 0.7300 - val_loss: 1.9074\n",
      "Epoch 28/100\n",
      "\u001b[1m450/450\u001b[0m \u001b[32m━━━━━━━━━━━━━━━━━━━━\u001b[0m\u001b[37m\u001b[0m \u001b[1m280s\u001b[0m 617ms/step - accuracy: 0.7676 - loss: 1.8181 - val_accuracy: 0.7290 - val_loss: 1.8761\n",
      "Epoch 29/100\n",
      "\u001b[1m450/450\u001b[0m \u001b[32m━━━━━━━━━━━━━━━━━━━━\u001b[0m\u001b[37m\u001b[0m \u001b[1m274s\u001b[0m 605ms/step - accuracy: 0.7660 - loss: 1.8253 - val_accuracy: 0.7304 - val_loss: 1.9048\n",
      "Epoch 30/100\n",
      "\u001b[1m450/450\u001b[0m \u001b[32m━━━━━━━━━━━━━━━━━━━━\u001b[0m\u001b[37m\u001b[0m \u001b[1m276s\u001b[0m 609ms/step - accuracy: 0.7704 - loss: 1.8198 - val_accuracy: 0.7372 - val_loss: 1.8618\n",
      "Epoch 31/100\n",
      "\u001b[1m450/450\u001b[0m \u001b[32m━━━━━━━━━━━━━━━━━━━━\u001b[0m\u001b[37m\u001b[0m \u001b[1m281s\u001b[0m 621ms/step - accuracy: 0.7767 - loss: 1.7719 - val_accuracy: 0.7408 - val_loss: 1.8477\n",
      "Epoch 32/100\n",
      "\u001b[1m450/450\u001b[0m \u001b[32m━━━━━━━━━━━━━━━━━━━━\u001b[0m\u001b[37m\u001b[0m \u001b[1m281s\u001b[0m 619ms/step - accuracy: 0.7839 - loss: 1.7486 - val_accuracy: 0.7416 - val_loss: 1.8571\n",
      "Epoch 33/100\n",
      "\u001b[1m450/450\u001b[0m \u001b[32m━━━━━━━━━━━━━━━━━━━━\u001b[0m\u001b[37m\u001b[0m \u001b[1m278s\u001b[0m 614ms/step - accuracy: 0.7925 - loss: 1.7121 - val_accuracy: 0.7366 - val_loss: 1.8686\n",
      "Epoch 34/100\n",
      "\u001b[1m450/450\u001b[0m \u001b[32m━━━━━━━━━━━━━━━━━━━━\u001b[0m\u001b[37m\u001b[0m \u001b[1m278s\u001b[0m 613ms/step - accuracy: 0.7978 - loss: 1.6951 - val_accuracy: 0.7364 - val_loss: 1.8397\n",
      "Epoch 35/100\n",
      "\u001b[1m450/450\u001b[0m \u001b[32m━━━━━━━━━━━━━━━━━━━━\u001b[0m\u001b[37m\u001b[0m \u001b[1m279s\u001b[0m 616ms/step - accuracy: 0.7947 - loss: 1.6887 - val_accuracy: 0.7318 - val_loss: 1.8548\n",
      "Epoch 36/100\n",
      "\u001b[1m450/450\u001b[0m \u001b[32m━━━━━━━━━━━━━━━━━━━━\u001b[0m\u001b[37m\u001b[0m \u001b[1m280s\u001b[0m 619ms/step - accuracy: 0.8009 - loss: 1.6575 - val_accuracy: 0.7416 - val_loss: 1.8408\n",
      "Epoch 37/100\n",
      "\u001b[1m450/450\u001b[0m \u001b[32m━━━━━━━━━━━━━━━━━━━━\u001b[0m\u001b[37m\u001b[0m \u001b[1m282s\u001b[0m 622ms/step - accuracy: 0.8040 - loss: 1.6454 - val_accuracy: 0.7350 - val_loss: 1.8578\n",
      "Epoch 38/100\n",
      "\u001b[1m450/450\u001b[0m \u001b[32m━━━━━━━━━━━━━━━━━━━━\u001b[0m\u001b[37m\u001b[0m \u001b[1m281s\u001b[0m 620ms/step - accuracy: 0.8070 - loss: 1.6534 - val_accuracy: 0.7384 - val_loss: 1.8440\n",
      "Epoch 39/100\n",
      "\u001b[1m450/450\u001b[0m \u001b[32m━━━━━━━━━━━━━━━━━━━━\u001b[0m\u001b[37m\u001b[0m \u001b[1m280s\u001b[0m 617ms/step - accuracy: 0.8092 - loss: 1.6201 - val_accuracy: 0.7422 - val_loss: 1.8213\n",
      "Epoch 40/100\n",
      "\u001b[1m450/450\u001b[0m \u001b[32m━━━━━━━━━━━━━━━━━━━━\u001b[0m\u001b[37m\u001b[0m \u001b[1m279s\u001b[0m 615ms/step - accuracy: 0.8147 - loss: 1.6007 - val_accuracy: 0.7384 - val_loss: 1.8485\n",
      "Epoch 41/100\n",
      "\u001b[1m450/450\u001b[0m \u001b[32m━━━━━━━━━━━━━━━━━━━━\u001b[0m\u001b[37m\u001b[0m \u001b[1m278s\u001b[0m 613ms/step - accuracy: 0.8239 - loss: 1.5628 - val_accuracy: 0.7504 - val_loss: 1.8218\n",
      "Epoch 42/100\n",
      "\u001b[1m450/450\u001b[0m \u001b[32m━━━━━━━━━━━━━━━━━━━━\u001b[0m\u001b[37m\u001b[0m \u001b[1m281s\u001b[0m 621ms/step - accuracy: 0.8219 - loss: 1.5593 - val_accuracy: 0.7508 - val_loss: 1.8106\n",
      "Epoch 43/100\n",
      "\u001b[1m450/450\u001b[0m \u001b[32m━━━━━━━━━━━━━━━━━━━━\u001b[0m\u001b[37m\u001b[0m \u001b[1m280s\u001b[0m 617ms/step - accuracy: 0.8250 - loss: 1.5457 - val_accuracy: 0.7440 - val_loss: 1.7933\n",
      "Epoch 44/100\n",
      "\u001b[1m450/450\u001b[0m \u001b[32m━━━━━━━━━━━━━━━━━━━━\u001b[0m\u001b[37m\u001b[0m \u001b[1m281s\u001b[0m 619ms/step - accuracy: 0.8267 - loss: 1.5510 - val_accuracy: 0.7350 - val_loss: 1.8278\n",
      "Epoch 45/100\n",
      "\u001b[1m450/450\u001b[0m \u001b[32m━━━━━━━━━━━━━━━━━━━━\u001b[0m\u001b[37m\u001b[0m \u001b[1m281s\u001b[0m 620ms/step - accuracy: 0.8289 - loss: 1.5248 - val_accuracy: 0.7434 - val_loss: 1.8161\n",
      "Epoch 46/100\n",
      "\u001b[1m450/450\u001b[0m \u001b[32m━━━━━━━━━━━━━━━━━━━━\u001b[0m\u001b[37m\u001b[0m \u001b[1m279s\u001b[0m 616ms/step - accuracy: 0.8341 - loss: 1.5009 - val_accuracy: 0.7444 - val_loss: 1.7973\n",
      "Epoch 47/100\n",
      "\u001b[1m450/450\u001b[0m \u001b[32m━━━━━━━━━━━━━━━━━━━━\u001b[0m\u001b[37m\u001b[0m \u001b[1m277s\u001b[0m 611ms/step - accuracy: 0.8365 - loss: 1.5039 - val_accuracy: 0.7480 - val_loss: 1.7970\n",
      "Epoch 48/100\n",
      "\u001b[1m450/450\u001b[0m \u001b[32m━━━━━━━━━━━━━━━━━━━━\u001b[0m\u001b[37m\u001b[0m \u001b[1m278s\u001b[0m 613ms/step - accuracy: 0.8394 - loss: 1.4764 - val_accuracy: 0.7358 - val_loss: 1.8335\n"
     ]
    },
    {
     "data": {
      "text/plain": [
       "<keras.src.callbacks.history.History at 0x7f33bf513dd0>"
      ]
     },
     "execution_count": 5,
     "metadata": {},
     "output_type": "execute_result"
    }
   ],
   "source": [
    "!mkdir -p sauvegardes\n",
    "model.compile(optimizer='adam', loss='categorical_crossentropy', metrics=['accuracy'])\n",
    "early_stopping_callback = EarlyStopping(monitor='val_loss', patience=5, restore_best_weights=True)\n",
    "csv_logger = CSVLogger(\"sauvegardes/modele_enseignant_logs.csv\", separator=\",\", append=False)\n",
    "model_checkpoint_callback = ModelCheckpoint(filepath=\"sauvegardes/modele_enseignant_checkpoint.keras\", monitor='val_loss', save_best_only=True)\n",
    "\n",
    "for layer in model.layers:\n",
    "    if layer.name == \"resnet50v2\":\n",
    "        for layer in layer.layers[:]:\n",
    "          if (re.match(\"^.*(_3_conv|_bn)$\", layer.name)):\n",
    "            layer.trainable = True\n",
    "          else:\n",
    "            layer.trainable = False\n",
    "\n",
    "model.fit(train_dataset, epochs=n_epoch, batch_size=batch_size, validation_data = validation_dataset, callbacks = [early_stopping_callback, csv_logger, model_checkpoint_callback])"
   ]
  },
  {
   "cell_type": "code",
   "execution_count": 6,
   "id": "58fd2ac0-98ee-4c9b-8520-580b2fa96b93",
   "metadata": {},
   "outputs": [],
   "source": [
    "model.save(\"sauvegardes/modele_enseignant_transfert.keras\")"
   ]
  },
  {
   "cell_type": "code",
   "execution_count": 7,
   "id": "8374e9fd-b542-4609-9c0c-fa5f30686bbe",
   "metadata": {},
   "outputs": [
    {
     "name": "stdout",
     "output_type": "stream",
     "text": [
      "\u001b[1m100/100\u001b[0m \u001b[32m━━━━━━━━━━━━━━━━━━━━\u001b[0m\u001b[37m\u001b[0m \u001b[1m25s\u001b[0m 249ms/step - accuracy: 0.7417 - loss: 1.8330\n"
     ]
    },
    {
     "data": {
      "text/plain": [
       "[1.830102562904358, 0.7414000034332275]"
      ]
     },
     "execution_count": 7,
     "metadata": {},
     "output_type": "execute_result"
    }
   ],
   "source": [
    "model.evaluate(test_dataset)"
   ]
  },
  {
   "cell_type": "code",
   "execution_count": 10,
   "id": "e6dc0764-19a6-4ef8-a8a0-6dc13899d3b1",
   "metadata": {},
   "outputs": [
    {
     "name": "stdout",
     "output_type": "stream",
     "text": [
      "Epoch 1/40\n",
      "\u001b[1m450/450\u001b[0m \u001b[32m━━━━━━━━━━━━━━━━━━━━\u001b[0m\u001b[37m\u001b[0m \u001b[1m387s\u001b[0m 649ms/step - accuracy: 0.8362 - loss: 1.3879 - val_accuracy: 0.7592 - val_loss: 1.5218\n",
      "Epoch 2/40\n",
      "\u001b[1m450/450\u001b[0m \u001b[32m━━━━━━━━━━━━━━━━━━━━\u001b[0m\u001b[37m\u001b[0m \u001b[1m289s\u001b[0m 636ms/step - accuracy: 0.8384 - loss: 1.2502 - val_accuracy: 0.7594 - val_loss: 1.4644\n",
      "Epoch 3/40\n",
      "\u001b[1m450/450\u001b[0m \u001b[32m━━━━━━━━━━━━━━━━━━━━\u001b[0m\u001b[37m\u001b[0m \u001b[1m289s\u001b[0m 637ms/step - accuracy: 0.8438 - loss: 1.1960 - val_accuracy: 0.7612 - val_loss: 1.4321\n",
      "Epoch 4/40\n",
      "\u001b[1m450/450\u001b[0m \u001b[32m━━━━━━━━━━━━━━━━━━━━\u001b[0m\u001b[37m\u001b[0m \u001b[1m290s\u001b[0m 638ms/step - accuracy: 0.8450 - loss: 1.1713 - val_accuracy: 0.7630 - val_loss: 1.4132\n",
      "Epoch 5/40\n",
      "\u001b[1m450/450\u001b[0m \u001b[32m━━━━━━━━━━━━━━━━━━━━\u001b[0m\u001b[37m\u001b[0m \u001b[1m284s\u001b[0m 625ms/step - accuracy: 0.8509 - loss: 1.1428 - val_accuracy: 0.7614 - val_loss: 1.4005\n",
      "Epoch 6/40\n",
      "\u001b[1m450/450\u001b[0m \u001b[32m━━━━━━━━━━━━━━━━━━━━\u001b[0m\u001b[37m\u001b[0m \u001b[1m288s\u001b[0m 633ms/step - accuracy: 0.8492 - loss: 1.1444 - val_accuracy: 0.7650 - val_loss: 1.3909\n",
      "Epoch 7/40\n",
      "\u001b[1m450/450\u001b[0m \u001b[32m━━━━━━━━━━━━━━━━━━━━\u001b[0m\u001b[37m\u001b[0m \u001b[1m292s\u001b[0m 642ms/step - accuracy: 0.8571 - loss: 1.1191 - val_accuracy: 0.7658 - val_loss: 1.3852\n",
      "Epoch 8/40\n",
      "\u001b[1m450/450\u001b[0m \u001b[32m━━━━━━━━━━━━━━━━━━━━\u001b[0m\u001b[37m\u001b[0m \u001b[1m296s\u001b[0m 652ms/step - accuracy: 0.8563 - loss: 1.1130 - val_accuracy: 0.7666 - val_loss: 1.3793\n",
      "Epoch 9/40\n",
      "\u001b[1m450/450\u001b[0m \u001b[32m━━━━━━━━━━━━━━━━━━━━\u001b[0m\u001b[37m\u001b[0m \u001b[1m289s\u001b[0m 636ms/step - accuracy: 0.8552 - loss: 1.1153 - val_accuracy: 0.7670 - val_loss: 1.3756\n",
      "Epoch 10/40\n",
      "\u001b[1m450/450\u001b[0m \u001b[32m━━━━━━━━━━━━━━━━━━━━\u001b[0m\u001b[37m\u001b[0m \u001b[1m297s\u001b[0m 653ms/step - accuracy: 0.8561 - loss: 1.1109 - val_accuracy: 0.7664 - val_loss: 1.3708\n",
      "Epoch 11/40\n",
      "\u001b[1m450/450\u001b[0m \u001b[32m━━━━━━━━━━━━━━━━━━━━\u001b[0m\u001b[37m\u001b[0m \u001b[1m296s\u001b[0m 650ms/step - accuracy: 0.8552 - loss: 1.1069 - val_accuracy: 0.7678 - val_loss: 1.3670\n",
      "Epoch 12/40\n",
      "\u001b[1m450/450\u001b[0m \u001b[32m━━━━━━━━━━━━━━━━━━━━\u001b[0m\u001b[37m\u001b[0m \u001b[1m283s\u001b[0m 623ms/step - accuracy: 0.8578 - loss: 1.1019 - val_accuracy: 0.7680 - val_loss: 1.3648\n",
      "Epoch 13/40\n",
      "\u001b[1m450/450\u001b[0m \u001b[32m━━━━━━━━━━━━━━━━━━━━\u001b[0m\u001b[37m\u001b[0m \u001b[1m292s\u001b[0m 643ms/step - accuracy: 0.8563 - loss: 1.1017 - val_accuracy: 0.7692 - val_loss: 1.3618\n",
      "Epoch 14/40\n",
      "\u001b[1m450/450\u001b[0m \u001b[32m━━━━━━━━━━━━━━━━━━━━\u001b[0m\u001b[37m\u001b[0m \u001b[1m286s\u001b[0m 629ms/step - accuracy: 0.8572 - loss: 1.1000 - val_accuracy: 0.7698 - val_loss: 1.3620\n",
      "Epoch 15/40\n",
      "\u001b[1m450/450\u001b[0m \u001b[32m━━━━━━━━━━━━━━━━━━━━\u001b[0m\u001b[37m\u001b[0m \u001b[1m288s\u001b[0m 634ms/step - accuracy: 0.8599 - loss: 1.0939 - val_accuracy: 0.7714 - val_loss: 1.3587\n",
      "Epoch 16/40\n",
      "\u001b[1m450/450\u001b[0m \u001b[32m━━━━━━━━━━━━━━━━━━━━\u001b[0m\u001b[37m\u001b[0m \u001b[1m293s\u001b[0m 648ms/step - accuracy: 0.8545 - loss: 1.1060 - val_accuracy: 0.7720 - val_loss: 1.3576\n",
      "Epoch 17/40\n",
      "\u001b[1m450/450\u001b[0m \u001b[32m━━━━━━━━━━━━━━━━━━━━\u001b[0m\u001b[37m\u001b[0m \u001b[1m294s\u001b[0m 646ms/step - accuracy: 0.8615 - loss: 1.0899 - val_accuracy: 0.7720 - val_loss: 1.3551\n",
      "Epoch 18/40\n",
      "\u001b[1m450/450\u001b[0m \u001b[32m━━━━━━━━━━━━━━━━━━━━\u001b[0m\u001b[37m\u001b[0m \u001b[1m294s\u001b[0m 647ms/step - accuracy: 0.8598 - loss: 1.0867 - val_accuracy: 0.7722 - val_loss: 1.3522\n",
      "Epoch 19/40\n",
      "\u001b[1m450/450\u001b[0m \u001b[32m━━━━━━━━━━━━━━━━━━━━\u001b[0m\u001b[37m\u001b[0m \u001b[1m290s\u001b[0m 637ms/step - accuracy: 0.8686 - loss: 1.0696 - val_accuracy: 0.7718 - val_loss: 1.3505\n",
      "Epoch 20/40\n",
      "\u001b[1m450/450\u001b[0m \u001b[32m━━━━━━━━━━━━━━━━━━━━\u001b[0m\u001b[37m\u001b[0m \u001b[1m291s\u001b[0m 641ms/step - accuracy: 0.8612 - loss: 1.0856 - val_accuracy: 0.7732 - val_loss: 1.3501\n",
      "Epoch 21/40\n",
      "\u001b[1m450/450\u001b[0m \u001b[32m━━━━━━━━━━━━━━━━━━━━\u001b[0m\u001b[37m\u001b[0m \u001b[1m294s\u001b[0m 647ms/step - accuracy: 0.8661 - loss: 1.0665 - val_accuracy: 0.7730 - val_loss: 1.3487\n",
      "Epoch 22/40\n",
      "\u001b[1m450/450\u001b[0m \u001b[32m━━━━━━━━━━━━━━━━━━━━\u001b[0m\u001b[37m\u001b[0m \u001b[1m288s\u001b[0m 634ms/step - accuracy: 0.8619 - loss: 1.0737 - val_accuracy: 0.7740 - val_loss: 1.3477\n",
      "Epoch 23/40\n",
      "\u001b[1m450/450\u001b[0m \u001b[32m━━━━━━━━━━━━━━━━━━━━\u001b[0m\u001b[37m\u001b[0m \u001b[1m289s\u001b[0m 637ms/step - accuracy: 0.8632 - loss: 1.0698 - val_accuracy: 0.7732 - val_loss: 1.3461\n",
      "Epoch 24/40\n",
      "\u001b[1m450/450\u001b[0m \u001b[32m━━━━━━━━━━━━━━━━━━━━\u001b[0m\u001b[37m\u001b[0m \u001b[1m291s\u001b[0m 639ms/step - accuracy: 0.8671 - loss: 1.0675 - val_accuracy: 0.7736 - val_loss: 1.3452\n",
      "Epoch 25/40\n",
      "\u001b[1m450/450\u001b[0m \u001b[32m━━━━━━━━━━━━━━━━━━━━\u001b[0m\u001b[37m\u001b[0m \u001b[1m284s\u001b[0m 625ms/step - accuracy: 0.8632 - loss: 1.0750 - val_accuracy: 0.7748 - val_loss: 1.3440\n",
      "Epoch 26/40\n",
      "\u001b[1m450/450\u001b[0m \u001b[32m━━━━━━━━━━━━━━━━━━━━\u001b[0m\u001b[37m\u001b[0m \u001b[1m292s\u001b[0m 644ms/step - accuracy: 0.8626 - loss: 1.0742 - val_accuracy: 0.7726 - val_loss: 1.3427\n",
      "Epoch 27/40\n",
      "\u001b[1m450/450\u001b[0m \u001b[32m━━━━━━━━━━━━━━━━━━━━\u001b[0m\u001b[37m\u001b[0m \u001b[1m294s\u001b[0m 646ms/step - accuracy: 0.8672 - loss: 1.0561 - val_accuracy: 0.7732 - val_loss: 1.3426\n",
      "Epoch 28/40\n",
      "\u001b[1m450/450\u001b[0m \u001b[32m━━━━━━━━━━━━━━━━━━━━\u001b[0m\u001b[37m\u001b[0m \u001b[1m292s\u001b[0m 641ms/step - accuracy: 0.8629 - loss: 1.0705 - val_accuracy: 0.7736 - val_loss: 1.3409\n",
      "Epoch 29/40\n",
      "\u001b[1m450/450\u001b[0m \u001b[32m━━━━━━━━━━━━━━━━━━━━\u001b[0m\u001b[37m\u001b[0m \u001b[1m294s\u001b[0m 648ms/step - accuracy: 0.8695 - loss: 1.0535 - val_accuracy: 0.7752 - val_loss: 1.3400\n",
      "Epoch 30/40\n",
      "\u001b[1m450/450\u001b[0m \u001b[32m━━━━━━━━━━━━━━━━━━━━\u001b[0m\u001b[37m\u001b[0m \u001b[1m287s\u001b[0m 633ms/step - accuracy: 0.8646 - loss: 1.0710 - val_accuracy: 0.7756 - val_loss: 1.3393\n",
      "Epoch 31/40\n",
      "\u001b[1m450/450\u001b[0m \u001b[32m━━━━━━━━━━━━━━━━━━━━\u001b[0m\u001b[37m\u001b[0m \u001b[1m287s\u001b[0m 629ms/step - accuracy: 0.8682 - loss: 1.0470 - val_accuracy: 0.7762 - val_loss: 1.3394\n",
      "Epoch 32/40\n",
      "\u001b[1m450/450\u001b[0m \u001b[32m━━━━━━━━━━━━━━━━━━━━\u001b[0m\u001b[37m\u001b[0m \u001b[1m282s\u001b[0m 621ms/step - accuracy: 0.8665 - loss: 1.0557 - val_accuracy: 0.7768 - val_loss: 1.3383\n",
      "Epoch 33/40\n",
      "\u001b[1m450/450\u001b[0m \u001b[32m━━━━━━━━━━━━━━━━━━━━\u001b[0m\u001b[37m\u001b[0m \u001b[1m290s\u001b[0m 637ms/step - accuracy: 0.8679 - loss: 1.0617 - val_accuracy: 0.7768 - val_loss: 1.3380\n",
      "Epoch 34/40\n",
      "\u001b[1m450/450\u001b[0m \u001b[32m━━━━━━━━━━━━━━━━━━━━\u001b[0m\u001b[37m\u001b[0m \u001b[1m287s\u001b[0m 631ms/step - accuracy: 0.8650 - loss: 1.0655 - val_accuracy: 0.7780 - val_loss: 1.3365\n",
      "Epoch 35/40\n",
      "\u001b[1m450/450\u001b[0m \u001b[32m━━━━━━━━━━━━━━━━━━━━\u001b[0m\u001b[37m\u001b[0m \u001b[1m295s\u001b[0m 648ms/step - accuracy: 0.8689 - loss: 1.0534 - val_accuracy: 0.7786 - val_loss: 1.3352\n",
      "Epoch 36/40\n",
      "\u001b[1m450/450\u001b[0m \u001b[32m━━━━━━━━━━━━━━━━━━━━\u001b[0m\u001b[37m\u001b[0m \u001b[1m290s\u001b[0m 638ms/step - accuracy: 0.8719 - loss: 1.0449 - val_accuracy: 0.7780 - val_loss: 1.3361\n",
      "Epoch 37/40\n",
      "\u001b[1m450/450\u001b[0m \u001b[32m━━━━━━━━━━━━━━━━━━━━\u001b[0m\u001b[37m\u001b[0m \u001b[1m290s\u001b[0m 638ms/step - accuracy: 0.8714 - loss: 1.0460 - val_accuracy: 0.7792 - val_loss: 1.3350\n",
      "Epoch 38/40\n",
      "\u001b[1m450/450\u001b[0m \u001b[32m━━━━━━━━━━━━━━━━━━━━\u001b[0m\u001b[37m\u001b[0m \u001b[1m287s\u001b[0m 631ms/step - accuracy: 0.8740 - loss: 1.0415 - val_accuracy: 0.7776 - val_loss: 1.3353\n",
      "Epoch 39/40\n",
      "\u001b[1m450/450\u001b[0m \u001b[32m━━━━━━━━━━━━━━━━━━━━\u001b[0m\u001b[37m\u001b[0m \u001b[1m289s\u001b[0m 635ms/step - accuracy: 0.8717 - loss: 1.0405 - val_accuracy: 0.7778 - val_loss: 1.3342\n",
      "Epoch 40/40\n",
      "\u001b[1m450/450\u001b[0m \u001b[32m━━━━━━━━━━━━━━━━━━━━\u001b[0m\u001b[37m\u001b[0m \u001b[1m285s\u001b[0m 628ms/step - accuracy: 0.8724 - loss: 1.0377 - val_accuracy: 0.7766 - val_loss: 1.3350\n"
     ]
    },
    {
     "data": {
      "text/plain": [
       "<keras.src.callbacks.history.History at 0x7f379998c890>"
      ]
     },
     "execution_count": 10,
     "metadata": {},
     "output_type": "execute_result"
    }
   ],
   "source": [
    "model.trainable = True\n",
    "model.compile(optimizer=tf.keras.optimizers.Adam(1e-5), loss='categorical_crossentropy', metrics=['accuracy'])\n",
    "csv_logger = CSVLogger(\"sauvegardes/modele_enseignant_logs.csv\", separator=\",\", append=True)\n",
    "early_stopping_callback = EarlyStopping(monitor='val_loss', patience=5, restore_best_weights=True)\n",
    "model_checkpoint_callback = ModelCheckpoint(filepath=\"sauvegardes/modele_enseignant_checkpoint.keras\", monitor='val_loss', save_best_only=True)\n",
    "model.fit(train_dataset, epochs=40, batch_size=batch_size, validation_data = validation_dataset, callbacks = [early_stopping_callback, csv_logger, model_checkpoint_callback])"
   ]
  },
  {
   "cell_type": "code",
   "execution_count": 11,
   "id": "6963deaf-4cf0-4703-8c37-ba51cab015d9",
   "metadata": {},
   "outputs": [],
   "source": [
    "model.save(\"sauvegardes/modele_enseignant.keras\")"
   ]
  },
  {
   "cell_type": "code",
   "execution_count": 12,
   "id": "s7P_Z0m4JxcI",
   "metadata": {
    "colab": {
     "base_uri": "https://localhost:8080/"
    },
    "id": "s7P_Z0m4JxcI",
    "outputId": "58957c0d-0f38-405a-8170-6e3ce4d3256e"
   },
   "outputs": [
    {
     "name": "stdout",
     "output_type": "stream",
     "text": [
      "\u001b[1m100/100\u001b[0m \u001b[32m━━━━━━━━━━━━━━━━━━━━\u001b[0m\u001b[37m\u001b[0m \u001b[1m22s\u001b[0m 214ms/step - accuracy: 0.7644 - loss: 1.3953\n"
     ]
    },
    {
     "data": {
      "text/plain": [
       "[1.3933833837509155, 0.7652999758720398]"
      ]
     },
     "execution_count": 12,
     "metadata": {},
     "output_type": "execute_result"
    }
   ],
   "source": [
    "model.evaluate(test_dataset)"
   ]
  },
  {
   "cell_type": "code",
   "execution_count": 15,
   "id": "wOxxhtWTVUag",
   "metadata": {
    "id": "wOxxhtWTVUag"
   },
   "outputs": [
    {
     "name": "stdout",
     "output_type": "stream",
     "text": [
      "...t_logs.csv: 6.82 KiB / 6.82 KiB ┃▓▓▓▓▓▓▓▓▓▓▓▓▓▓▓▓▓▓▓▓▓▓▓▓▓▓▓▓┃ 60.91 KiB/s 0s\u001b[0;22m\u001b[0m\u001b[m\u001b[32;1m\u001b[m\u001b[32;1m\u001b[m\u001b[32;1m\u001b[m\u001b[32;1m\u001b[m\u001b[32;1m\u001b[m\u001b[32;1m\u001b[m\u001b[32;1m\u001b[m\u001b[32;1m\u001b[m\u001b[32;1m\u001b]11;?\u001b\\\u001b[6n\u001b[m\u001b[32;1m\u001b[m\u001b[32;1m"
     ]
    }
   ],
   "source": [
    "!mc cp /home/onyxia/work/projet_distillation_cnam/sauvegardes/modele_enseignant.keras s3/afeldmann/projet_cnam/modele_enseignant.keras\n",
    "!mc cp /home/onyxia/work/projet_distillation_cnam/sauvegardes/modele_enseignant_logs.csv s3/afeldmann/projet_cnam/modele_enseignant_logs.csv"
   ]
  },
  {
   "cell_type": "code",
   "execution_count": 30,
   "id": "ae3c5bd7-127e-400d-aee8-2842ad9c1984",
   "metadata": {},
   "outputs": [
    {
     "data": {
      "image/png": "[encoded data removed]",
      "text/plain": [
       "<Figure size 640x480 with 1 Axes>"
      ]
     },
     "metadata": {},
     "output_type": "display_data"
    }
   ],
   "source": [
    "history=np.genfromtxt(\"sauvegardes/modele_enseignant_logs.csv\", delimiter=\",\", names = True)\n",
    "plt.plot(history['accuracy'])\n",
    "plt.plot(history['val_accuracy'])\n",
    "plt.title('Modèle enseignant')\n",
    "plt.ylabel('Exactitude')\n",
    "plt.xlabel('Époque')\n",
    "plt.axvline(x=40, color='purple', ls='--', lw=2, label='Limite réglage fin')\n",
    "plt.legend(['Entrainement', 'Validation','Limite réglage fin'], loc='best')\n",
    "plt.show()"
   ]
  },
  {
   "cell_type": "code",
   "execution_count": null,
   "id": "236b5255-d26e-4b95-a2f1-c7ac8d3e698e",
   "metadata": {},
   "outputs": [],
   "source": []
  }
 ],
 "metadata": {
  "accelerator": "GPU",
  "colab": {
   "gpuType": "A100",
   "machine_shape": "hm",
   "provenance": []
  },
  "kernelspec": {
   "display_name": "Python 3 (ipykernel)",
   "language": "python",
   "name": "python3"
  },
  "language_info": {
   "codemirror_mode": {
    "name": "ipython",
    "version": 3
   },
   "file_extension": ".py",
   "mimetype": "text/x-python",
   "name": "python",
   "nbconvert_exporter": "python",
   "pygments_lexer": "ipython3",
   "version": "3.11.6"
  }
 },
 "nbformat": 4,
 "nbformat_minor": 5
}
