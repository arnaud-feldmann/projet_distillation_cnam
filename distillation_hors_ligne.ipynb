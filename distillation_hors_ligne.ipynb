{
  "nbformat": 4,
  "nbformat_minor": 0,
  "metadata": {
    "colab": {
      "provenance": [],
      "machine_shape": "hm",
      "gpuType": "A100",
      "mount_file_id": "106xzOLKiTWG5i8p3_sRoYD7Xjz-gmRDB",
      "authorship_tag": "ABX9TyO3xvaT+6SZKFY/RUYrqkSJ",
      "include_colab_link": true
    },
    "kernelspec": {
      "name": "python3",
      "display_name": "Python 3"
    },
    "language_info": {
      "name": "python"
    },
    "accelerator": "GPU"
  },
  "cells": [
    {
      "cell_type": "markdown",
      "metadata": {
        "id": "view-in-github",
        "colab_type": "text"
      },
      "source": [
        "<a href=\"https://colab.research.google.com/github/arnaud-feldmann/projet_distillation_cnam/blob/main/distillation_hors_ligne.ipynb\" target=\"_parent\"><img src=\"https://colab.research.google.com/assets/colab-badge.svg\" alt=\"Open In Colab\"/></a>"
      ]
    },
    {
      "cell_type": "code",
      "execution_count": 13,
      "metadata": {
        "colab": {
          "base_uri": "https://localhost:8080/"
        },
        "id": "0a6T1vnVygY3",
        "outputId": "44ea7156-a29b-4b9d-ba87-4e0a6accea94"
      },
      "outputs": [
        {
          "output_type": "stream",
          "name": "stdout",
          "text": [
            "Requirement already satisfied: keras_cv in /usr/local/lib/python3.10/dist-packages (0.8.2)\n",
            "Requirement already satisfied: image_classifiers in /usr/local/lib/python3.10/dist-packages (1.0.0)\n",
            "Requirement already satisfied: packaging in /usr/local/lib/python3.10/dist-packages (from keras_cv) (24.0)\n",
            "Requirement already satisfied: absl-py in /usr/local/lib/python3.10/dist-packages (from keras_cv) (1.4.0)\n",
            "Requirement already satisfied: regex in /usr/local/lib/python3.10/dist-packages (from keras_cv) (2023.12.25)\n",
            "Requirement already satisfied: tensorflow-datasets in /usr/local/lib/python3.10/dist-packages (from keras_cv) (4.9.4)\n",
            "Requirement already satisfied: keras-core in /usr/local/lib/python3.10/dist-packages (from keras_cv) (0.1.7)\n",
            "Requirement already satisfied: kagglehub in /usr/local/lib/python3.10/dist-packages (from keras_cv) (0.2.2)\n",
            "Requirement already satisfied: keras-applications<=1.0.8,>=1.0.7 in /usr/local/lib/python3.10/dist-packages (from image_classifiers) (1.0.8)\n",
            "Requirement already satisfied: numpy>=1.9.1 in /usr/local/lib/python3.10/dist-packages (from keras-applications<=1.0.8,>=1.0.7->image_classifiers) (1.25.2)\n",
            "Requirement already satisfied: h5py in /usr/local/lib/python3.10/dist-packages (from keras-applications<=1.0.8,>=1.0.7->image_classifiers) (3.9.0)\n",
            "Requirement already satisfied: requests in /usr/local/lib/python3.10/dist-packages (from kagglehub->keras_cv) (2.31.0)\n",
            "Requirement already satisfied: tqdm in /usr/local/lib/python3.10/dist-packages (from kagglehub->keras_cv) (4.66.2)\n",
            "Requirement already satisfied: rich in /usr/local/lib/python3.10/dist-packages (from keras-core->keras_cv) (13.7.1)\n",
            "Requirement already satisfied: namex in /usr/local/lib/python3.10/dist-packages (from keras-core->keras_cv) (0.0.7)\n",
            "Requirement already satisfied: dm-tree in /usr/local/lib/python3.10/dist-packages (from keras-core->keras_cv) (0.1.8)\n",
            "Requirement already satisfied: click in /usr/local/lib/python3.10/dist-packages (from tensorflow-datasets->keras_cv) (8.1.7)\n",
            "Requirement already satisfied: etils[enp,epath,etree]>=0.9.0 in /usr/local/lib/python3.10/dist-packages (from tensorflow-datasets->keras_cv) (1.7.0)\n",
            "Requirement already satisfied: promise in /usr/local/lib/python3.10/dist-packages (from tensorflow-datasets->keras_cv) (2.3)\n",
            "Requirement already satisfied: protobuf>=3.20 in /usr/local/lib/python3.10/dist-packages (from tensorflow-datasets->keras_cv) (3.20.3)\n",
            "Requirement already satisfied: psutil in /usr/local/lib/python3.10/dist-packages (from tensorflow-datasets->keras_cv) (5.9.5)\n",
            "Requirement already satisfied: tensorflow-metadata in /usr/local/lib/python3.10/dist-packages (from tensorflow-datasets->keras_cv) (1.14.0)\n",
            "Requirement already satisfied: termcolor in /usr/local/lib/python3.10/dist-packages (from tensorflow-datasets->keras_cv) (2.4.0)\n",
            "Requirement already satisfied: toml in /usr/local/lib/python3.10/dist-packages (from tensorflow-datasets->keras_cv) (0.10.2)\n",
            "Requirement already satisfied: wrapt in /usr/local/lib/python3.10/dist-packages (from tensorflow-datasets->keras_cv) (1.14.1)\n",
            "Requirement already satisfied: array-record>=0.5.0 in /usr/local/lib/python3.10/dist-packages (from tensorflow-datasets->keras_cv) (0.5.1)\n",
            "Requirement already satisfied: fsspec in /usr/local/lib/python3.10/dist-packages (from etils[enp,epath,etree]>=0.9.0->tensorflow-datasets->keras_cv) (2023.6.0)\n",
            "Requirement already satisfied: importlib_resources in /usr/local/lib/python3.10/dist-packages (from etils[enp,epath,etree]>=0.9.0->tensorflow-datasets->keras_cv) (6.4.0)\n",
            "Requirement already satisfied: typing_extensions in /usr/local/lib/python3.10/dist-packages (from etils[enp,epath,etree]>=0.9.0->tensorflow-datasets->keras_cv) (4.10.0)\n",
            "Requirement already satisfied: zipp in /usr/local/lib/python3.10/dist-packages (from etils[enp,epath,etree]>=0.9.0->tensorflow-datasets->keras_cv) (3.18.1)\n",
            "Requirement already satisfied: charset-normalizer<4,>=2 in /usr/local/lib/python3.10/dist-packages (from requests->kagglehub->keras_cv) (3.3.2)\n",
            "Requirement already satisfied: idna<4,>=2.5 in /usr/local/lib/python3.10/dist-packages (from requests->kagglehub->keras_cv) (3.6)\n",
            "Requirement already satisfied: urllib3<3,>=1.21.1 in /usr/local/lib/python3.10/dist-packages (from requests->kagglehub->keras_cv) (2.0.7)\n",
            "Requirement already satisfied: certifi>=2017.4.17 in /usr/local/lib/python3.10/dist-packages (from requests->kagglehub->keras_cv) (2024.2.2)\n",
            "Requirement already satisfied: six in /usr/local/lib/python3.10/dist-packages (from promise->tensorflow-datasets->keras_cv) (1.16.0)\n",
            "Requirement already satisfied: markdown-it-py>=2.2.0 in /usr/local/lib/python3.10/dist-packages (from rich->keras-core->keras_cv) (3.0.0)\n",
            "Requirement already satisfied: pygments<3.0.0,>=2.13.0 in /usr/local/lib/python3.10/dist-packages (from rich->keras-core->keras_cv) (2.16.1)\n",
            "Requirement already satisfied: googleapis-common-protos<2,>=1.52.0 in /usr/local/lib/python3.10/dist-packages (from tensorflow-metadata->tensorflow-datasets->keras_cv) (1.63.0)\n",
            "Requirement already satisfied: mdurl~=0.1 in /usr/local/lib/python3.10/dist-packages (from markdown-it-py>=2.2.0->rich->keras-core->keras_cv) (0.1.2)\n"
          ]
        }
      ],
      "source": [
        "!pip install keras_cv image_classifiers\n",
        "import numpy as np\n",
        "import matplotlib.pyplot as plt\n",
        "import tensorflow as tf\n",
        "from classification_models.keras import Classifiers\n",
        "from keras.datasets import cifar100\n",
        "from keras import Sequential\n",
        "from keras import Input\n",
        "from keras.layers import UpSampling2D\n",
        "from keras.layers import Dense\n",
        "from keras.layers import Dropout\n",
        "from keras.layers import BatchNormalization\n",
        "from keras.layers import RandomFlip\n",
        "from keras.layers import RandomTranslation\n",
        "from keras.layers import RandomRotation\n",
        "from keras.layers import RandomBrightness\n",
        "from keras.layers import RandomContrast\n",
        "from keras.layers import RandomZoom\n",
        "from keras.layers import GlobalAveragePooling2D\n",
        "from keras_cv.layers import RandomShear\n",
        "from keras.utils import to_categorical\n",
        "from keras.callbacks import EarlyStopping\n",
        "from keras.models import Model\n",
        "import keras_cv\n",
        "import re\n",
        "import os\n",
        "import datetime"
      ]
    },
    {
      "cell_type": "code",
      "source": [
        "n_epoch = 1000 # Il y a le early stopping\n",
        "batch_size = 400"
      ],
      "metadata": {
        "id": "HJBnQzTj-I-v"
      },
      "execution_count": 14,
      "outputs": []
    },
    {
      "cell_type": "code",
      "source": [
        "(X_train, y_train), (X_test, y_test) = cifar100.load_data()\n",
        "X_train = np.float64(X_train)/255\n",
        "X_test = np.float64(X_test)/255\n",
        "y_train = to_categorical(y_train)\n",
        "y_test = to_categorical(y_test)\n",
        "\n",
        "num_classes = 100"
      ],
      "metadata": {
        "id": "MLyUvI1U-J0N"
      },
      "execution_count": 15,
      "outputs": []
    },
    {
      "cell_type": "code",
      "source": [
        "modele_enseignant = tf.keras.models.load_model(\"/content/drive/MyDrive/projet_cnam/modele_745.keras\")"
      ],
      "metadata": {
        "id": "-bCWbh__y5wM"
      },
      "execution_count": 17,
      "outputs": []
    },
    {
      "cell_type": "code",
      "source": [
        "y_train_enseignant = modele_enseignant.predict(X_train)"
      ],
      "metadata": {
        "colab": {
          "base_uri": "https://localhost:8080/"
        },
        "id": "zuXmW-Lc-j6G",
        "outputId": "5c0f9f60-69b5-4fdb-8033-52d49e4b482e"
      },
      "execution_count": 18,
      "outputs": [
        {
          "output_type": "stream",
          "name": "stdout",
          "text": [
            "1563/1563 [==============================] - 31s 17ms/step\n"
          ]
        }
      ]
    },
    {
      "cell_type": "code",
      "source": [
        "ResNet18, preprocess_input = Classifiers.get('resnet18')\n",
        "resnet = ResNet18((224, 224, 3), weights='imagenet', include_top=False)\n",
        "resnet_output = GlobalAveragePooling2D()(resnet.output)\n",
        "resnet = Model(inputs=resnet.input, outputs=resnet_output)\n",
        "\n",
        "resnet.summary()"
      ],
      "metadata": {
        "colab": {
          "base_uri": "https://localhost:8080/"
        },
        "id": "23yd3ECZ8qIr",
        "outputId": "c61aff1a-8bcb-4d2c-baef-2ec4ed7a9e69"
      },
      "execution_count": 19,
      "outputs": [
        {
          "output_type": "stream",
          "name": "stdout",
          "text": [
            "Model: \"model_3\"\n",
            "__________________________________________________________________________________________________\n",
            " Layer (type)                Output Shape                 Param #   Connected to                  \n",
            "==================================================================================================\n",
            " data (InputLayer)           [(None, 224, 224, 3)]        0         []                            \n",
            "                                                                                                  \n",
            " bn_data (BatchNormalizatio  (None, 224, 224, 3)          9         ['data[0][0]']                \n",
            " n)                                                                                               \n",
            "                                                                                                  \n",
            " zero_padding2d_18 (ZeroPad  (None, 230, 230, 3)          0         ['bn_data[0][0]']             \n",
            " ding2D)                                                                                          \n",
            "                                                                                                  \n",
            " conv0 (Conv2D)              (None, 112, 112, 64)         9408      ['zero_padding2d_18[0][0]']   \n",
            "                                                                                                  \n",
            " bn0 (BatchNormalization)    (None, 112, 112, 64)         256       ['conv0[0][0]']               \n",
            "                                                                                                  \n",
            " relu0 (Activation)          (None, 112, 112, 64)         0         ['bn0[0][0]']                 \n",
            "                                                                                                  \n",
            " zero_padding2d_19 (ZeroPad  (None, 114, 114, 64)         0         ['relu0[0][0]']               \n",
            " ding2D)                                                                                          \n",
            "                                                                                                  \n",
            " pooling0 (MaxPooling2D)     (None, 56, 56, 64)           0         ['zero_padding2d_19[0][0]']   \n",
            "                                                                                                  \n",
            " stage1_unit1_bn1 (BatchNor  (None, 56, 56, 64)           256       ['pooling0[0][0]']            \n",
            " malization)                                                                                      \n",
            "                                                                                                  \n",
            " stage1_unit1_relu1 (Activa  (None, 56, 56, 64)           0         ['stage1_unit1_bn1[0][0]']    \n",
            " tion)                                                                                            \n",
            "                                                                                                  \n",
            " zero_padding2d_20 (ZeroPad  (None, 58, 58, 64)           0         ['stage1_unit1_relu1[0][0]']  \n",
            " ding2D)                                                                                          \n",
            "                                                                                                  \n",
            " stage1_unit1_conv1 (Conv2D  (None, 56, 56, 64)           36864     ['zero_padding2d_20[0][0]']   \n",
            " )                                                                                                \n",
            "                                                                                                  \n",
            " stage1_unit1_bn2 (BatchNor  (None, 56, 56, 64)           256       ['stage1_unit1_conv1[0][0]']  \n",
            " malization)                                                                                      \n",
            "                                                                                                  \n",
            " stage1_unit1_relu2 (Activa  (None, 56, 56, 64)           0         ['stage1_unit1_bn2[0][0]']    \n",
            " tion)                                                                                            \n",
            "                                                                                                  \n",
            " zero_padding2d_21 (ZeroPad  (None, 58, 58, 64)           0         ['stage1_unit1_relu2[0][0]']  \n",
            " ding2D)                                                                                          \n",
            "                                                                                                  \n",
            " stage1_unit1_conv2 (Conv2D  (None, 56, 56, 64)           36864     ['zero_padding2d_21[0][0]']   \n",
            " )                                                                                                \n",
            "                                                                                                  \n",
            " stage1_unit1_sc (Conv2D)    (None, 56, 56, 64)           4096      ['stage1_unit1_relu1[0][0]']  \n",
            "                                                                                                  \n",
            " add_8 (Add)                 (None, 56, 56, 64)           0         ['stage1_unit1_conv2[0][0]',  \n",
            "                                                                     'stage1_unit1_sc[0][0]']     \n",
            "                                                                                                  \n",
            " stage1_unit2_bn1 (BatchNor  (None, 56, 56, 64)           256       ['add_8[0][0]']               \n",
            " malization)                                                                                      \n",
            "                                                                                                  \n",
            " stage1_unit2_relu1 (Activa  (None, 56, 56, 64)           0         ['stage1_unit2_bn1[0][0]']    \n",
            " tion)                                                                                            \n",
            "                                                                                                  \n",
            " zero_padding2d_22 (ZeroPad  (None, 58, 58, 64)           0         ['stage1_unit2_relu1[0][0]']  \n",
            " ding2D)                                                                                          \n",
            "                                                                                                  \n",
            " stage1_unit2_conv1 (Conv2D  (None, 56, 56, 64)           36864     ['zero_padding2d_22[0][0]']   \n",
            " )                                                                                                \n",
            "                                                                                                  \n",
            " stage1_unit2_bn2 (BatchNor  (None, 56, 56, 64)           256       ['stage1_unit2_conv1[0][0]']  \n",
            " malization)                                                                                      \n",
            "                                                                                                  \n",
            " stage1_unit2_relu2 (Activa  (None, 56, 56, 64)           0         ['stage1_unit2_bn2[0][0]']    \n",
            " tion)                                                                                            \n",
            "                                                                                                  \n",
            " zero_padding2d_23 (ZeroPad  (None, 58, 58, 64)           0         ['stage1_unit2_relu2[0][0]']  \n",
            " ding2D)                                                                                          \n",
            "                                                                                                  \n",
            " stage1_unit2_conv2 (Conv2D  (None, 56, 56, 64)           36864     ['zero_padding2d_23[0][0]']   \n",
            " )                                                                                                \n",
            "                                                                                                  \n",
            " add_9 (Add)                 (None, 56, 56, 64)           0         ['stage1_unit2_conv2[0][0]',  \n",
            "                                                                     'add_8[0][0]']               \n",
            "                                                                                                  \n",
            " stage2_unit1_bn1 (BatchNor  (None, 56, 56, 64)           256       ['add_9[0][0]']               \n",
            " malization)                                                                                      \n",
            "                                                                                                  \n",
            " stage2_unit1_relu1 (Activa  (None, 56, 56, 64)           0         ['stage2_unit1_bn1[0][0]']    \n",
            " tion)                                                                                            \n",
            "                                                                                                  \n",
            " zero_padding2d_24 (ZeroPad  (None, 58, 58, 64)           0         ['stage2_unit1_relu1[0][0]']  \n",
            " ding2D)                                                                                          \n",
            "                                                                                                  \n",
            " stage2_unit1_conv1 (Conv2D  (None, 28, 28, 128)          73728     ['zero_padding2d_24[0][0]']   \n",
            " )                                                                                                \n",
            "                                                                                                  \n",
            " stage2_unit1_bn2 (BatchNor  (None, 28, 28, 128)          512       ['stage2_unit1_conv1[0][0]']  \n",
            " malization)                                                                                      \n",
            "                                                                                                  \n",
            " stage2_unit1_relu2 (Activa  (None, 28, 28, 128)          0         ['stage2_unit1_bn2[0][0]']    \n",
            " tion)                                                                                            \n",
            "                                                                                                  \n",
            " zero_padding2d_25 (ZeroPad  (None, 30, 30, 128)          0         ['stage2_unit1_relu2[0][0]']  \n",
            " ding2D)                                                                                          \n",
            "                                                                                                  \n",
            " stage2_unit1_conv2 (Conv2D  (None, 28, 28, 128)          147456    ['zero_padding2d_25[0][0]']   \n",
            " )                                                                                                \n",
            "                                                                                                  \n",
            " stage2_unit1_sc (Conv2D)    (None, 28, 28, 128)          8192      ['stage2_unit1_relu1[0][0]']  \n",
            "                                                                                                  \n",
            " add_10 (Add)                (None, 28, 28, 128)          0         ['stage2_unit1_conv2[0][0]',  \n",
            "                                                                     'stage2_unit1_sc[0][0]']     \n",
            "                                                                                                  \n",
            " stage2_unit2_bn1 (BatchNor  (None, 28, 28, 128)          512       ['add_10[0][0]']              \n",
            " malization)                                                                                      \n",
            "                                                                                                  \n",
            " stage2_unit2_relu1 (Activa  (None, 28, 28, 128)          0         ['stage2_unit2_bn1[0][0]']    \n",
            " tion)                                                                                            \n",
            "                                                                                                  \n",
            " zero_padding2d_26 (ZeroPad  (None, 30, 30, 128)          0         ['stage2_unit2_relu1[0][0]']  \n",
            " ding2D)                                                                                          \n",
            "                                                                                                  \n",
            " stage2_unit2_conv1 (Conv2D  (None, 28, 28, 128)          147456    ['zero_padding2d_26[0][0]']   \n",
            " )                                                                                                \n",
            "                                                                                                  \n",
            " stage2_unit2_bn2 (BatchNor  (None, 28, 28, 128)          512       ['stage2_unit2_conv1[0][0]']  \n",
            " malization)                                                                                      \n",
            "                                                                                                  \n",
            " stage2_unit2_relu2 (Activa  (None, 28, 28, 128)          0         ['stage2_unit2_bn2[0][0]']    \n",
            " tion)                                                                                            \n",
            "                                                                                                  \n",
            " zero_padding2d_27 (ZeroPad  (None, 30, 30, 128)          0         ['stage2_unit2_relu2[0][0]']  \n",
            " ding2D)                                                                                          \n",
            "                                                                                                  \n",
            " stage2_unit2_conv2 (Conv2D  (None, 28, 28, 128)          147456    ['zero_padding2d_27[0][0]']   \n",
            " )                                                                                                \n",
            "                                                                                                  \n",
            " add_11 (Add)                (None, 28, 28, 128)          0         ['stage2_unit2_conv2[0][0]',  \n",
            "                                                                     'add_10[0][0]']              \n",
            "                                                                                                  \n",
            " stage3_unit1_bn1 (BatchNor  (None, 28, 28, 128)          512       ['add_11[0][0]']              \n",
            " malization)                                                                                      \n",
            "                                                                                                  \n",
            " stage3_unit1_relu1 (Activa  (None, 28, 28, 128)          0         ['stage3_unit1_bn1[0][0]']    \n",
            " tion)                                                                                            \n",
            "                                                                                                  \n",
            " zero_padding2d_28 (ZeroPad  (None, 30, 30, 128)          0         ['stage3_unit1_relu1[0][0]']  \n",
            " ding2D)                                                                                          \n",
            "                                                                                                  \n",
            " stage3_unit1_conv1 (Conv2D  (None, 14, 14, 256)          294912    ['zero_padding2d_28[0][0]']   \n",
            " )                                                                                                \n",
            "                                                                                                  \n",
            " stage3_unit1_bn2 (BatchNor  (None, 14, 14, 256)          1024      ['stage3_unit1_conv1[0][0]']  \n",
            " malization)                                                                                      \n",
            "                                                                                                  \n",
            " stage3_unit1_relu2 (Activa  (None, 14, 14, 256)          0         ['stage3_unit1_bn2[0][0]']    \n",
            " tion)                                                                                            \n",
            "                                                                                                  \n",
            " zero_padding2d_29 (ZeroPad  (None, 16, 16, 256)          0         ['stage3_unit1_relu2[0][0]']  \n",
            " ding2D)                                                                                          \n",
            "                                                                                                  \n",
            " stage3_unit1_conv2 (Conv2D  (None, 14, 14, 256)          589824    ['zero_padding2d_29[0][0]']   \n",
            " )                                                                                                \n",
            "                                                                                                  \n",
            " stage3_unit1_sc (Conv2D)    (None, 14, 14, 256)          32768     ['stage3_unit1_relu1[0][0]']  \n",
            "                                                                                                  \n",
            " add_12 (Add)                (None, 14, 14, 256)          0         ['stage3_unit1_conv2[0][0]',  \n",
            "                                                                     'stage3_unit1_sc[0][0]']     \n",
            "                                                                                                  \n",
            " stage3_unit2_bn1 (BatchNor  (None, 14, 14, 256)          1024      ['add_12[0][0]']              \n",
            " malization)                                                                                      \n",
            "                                                                                                  \n",
            " stage3_unit2_relu1 (Activa  (None, 14, 14, 256)          0         ['stage3_unit2_bn1[0][0]']    \n",
            " tion)                                                                                            \n",
            "                                                                                                  \n",
            " zero_padding2d_30 (ZeroPad  (None, 16, 16, 256)          0         ['stage3_unit2_relu1[0][0]']  \n",
            " ding2D)                                                                                          \n",
            "                                                                                                  \n",
            " stage3_unit2_conv1 (Conv2D  (None, 14, 14, 256)          589824    ['zero_padding2d_30[0][0]']   \n",
            " )                                                                                                \n",
            "                                                                                                  \n",
            " stage3_unit2_bn2 (BatchNor  (None, 14, 14, 256)          1024      ['stage3_unit2_conv1[0][0]']  \n",
            " malization)                                                                                      \n",
            "                                                                                                  \n",
            " stage3_unit2_relu2 (Activa  (None, 14, 14, 256)          0         ['stage3_unit2_bn2[0][0]']    \n",
            " tion)                                                                                            \n",
            "                                                                                                  \n",
            " zero_padding2d_31 (ZeroPad  (None, 16, 16, 256)          0         ['stage3_unit2_relu2[0][0]']  \n",
            " ding2D)                                                                                          \n",
            "                                                                                                  \n",
            " stage3_unit2_conv2 (Conv2D  (None, 14, 14, 256)          589824    ['zero_padding2d_31[0][0]']   \n",
            " )                                                                                                \n",
            "                                                                                                  \n",
            " add_13 (Add)                (None, 14, 14, 256)          0         ['stage3_unit2_conv2[0][0]',  \n",
            "                                                                     'add_12[0][0]']              \n",
            "                                                                                                  \n",
            " stage4_unit1_bn1 (BatchNor  (None, 14, 14, 256)          1024      ['add_13[0][0]']              \n",
            " malization)                                                                                      \n",
            "                                                                                                  \n",
            " stage4_unit1_relu1 (Activa  (None, 14, 14, 256)          0         ['stage4_unit1_bn1[0][0]']    \n",
            " tion)                                                                                            \n",
            "                                                                                                  \n",
            " zero_padding2d_32 (ZeroPad  (None, 16, 16, 256)          0         ['stage4_unit1_relu1[0][0]']  \n",
            " ding2D)                                                                                          \n",
            "                                                                                                  \n",
            " stage4_unit1_conv1 (Conv2D  (None, 7, 7, 512)            1179648   ['zero_padding2d_32[0][0]']   \n",
            " )                                                                                                \n",
            "                                                                                                  \n",
            " stage4_unit1_bn2 (BatchNor  (None, 7, 7, 512)            2048      ['stage4_unit1_conv1[0][0]']  \n",
            " malization)                                                                                      \n",
            "                                                                                                  \n",
            " stage4_unit1_relu2 (Activa  (None, 7, 7, 512)            0         ['stage4_unit1_bn2[0][0]']    \n",
            " tion)                                                                                            \n",
            "                                                                                                  \n",
            " zero_padding2d_33 (ZeroPad  (None, 9, 9, 512)            0         ['stage4_unit1_relu2[0][0]']  \n",
            " ding2D)                                                                                          \n",
            "                                                                                                  \n",
            " stage4_unit1_conv2 (Conv2D  (None, 7, 7, 512)            2359296   ['zero_padding2d_33[0][0]']   \n",
            " )                                                                                                \n",
            "                                                                                                  \n",
            " stage4_unit1_sc (Conv2D)    (None, 7, 7, 512)            131072    ['stage4_unit1_relu1[0][0]']  \n",
            "                                                                                                  \n",
            " add_14 (Add)                (None, 7, 7, 512)            0         ['stage4_unit1_conv2[0][0]',  \n",
            "                                                                     'stage4_unit1_sc[0][0]']     \n",
            "                                                                                                  \n",
            " stage4_unit2_bn1 (BatchNor  (None, 7, 7, 512)            2048      ['add_14[0][0]']              \n",
            " malization)                                                                                      \n",
            "                                                                                                  \n",
            " stage4_unit2_relu1 (Activa  (None, 7, 7, 512)            0         ['stage4_unit2_bn1[0][0]']    \n",
            " tion)                                                                                            \n",
            "                                                                                                  \n",
            " zero_padding2d_34 (ZeroPad  (None, 9, 9, 512)            0         ['stage4_unit2_relu1[0][0]']  \n",
            " ding2D)                                                                                          \n",
            "                                                                                                  \n",
            " stage4_unit2_conv1 (Conv2D  (None, 7, 7, 512)            2359296   ['zero_padding2d_34[0][0]']   \n",
            " )                                                                                                \n",
            "                                                                                                  \n",
            " stage4_unit2_bn2 (BatchNor  (None, 7, 7, 512)            2048      ['stage4_unit2_conv1[0][0]']  \n",
            " malization)                                                                                      \n",
            "                                                                                                  \n",
            " stage4_unit2_relu2 (Activa  (None, 7, 7, 512)            0         ['stage4_unit2_bn2[0][0]']    \n",
            " tion)                                                                                            \n",
            "                                                                                                  \n",
            " zero_padding2d_35 (ZeroPad  (None, 9, 9, 512)            0         ['stage4_unit2_relu2[0][0]']  \n",
            " ding2D)                                                                                          \n",
            "                                                                                                  \n",
            " stage4_unit2_conv2 (Conv2D  (None, 7, 7, 512)            2359296   ['zero_padding2d_35[0][0]']   \n",
            " )                                                                                                \n",
            "                                                                                                  \n",
            " add_15 (Add)                (None, 7, 7, 512)            0         ['stage4_unit2_conv2[0][0]',  \n",
            "                                                                     'add_14[0][0]']              \n",
            "                                                                                                  \n",
            " bn1 (BatchNormalization)    (None, 7, 7, 512)            2048      ['add_15[0][0]']              \n",
            "                                                                                                  \n",
            " relu1 (Activation)          (None, 7, 7, 512)            0         ['bn1[0][0]']                 \n",
            "                                                                                                  \n",
            " global_average_pooling2d_1  (None, 512)                  0         ['relu1[0][0]']               \n",
            "  (GlobalAveragePooling2D)                                                                        \n",
            "                                                                                                  \n",
            "==================================================================================================\n",
            "Total params: 11186889 (42.67 MB)\n",
            "Trainable params: 11178947 (42.64 MB)\n",
            "Non-trainable params: 7942 (31.02 KB)\n",
            "__________________________________________________________________________________________________\n"
          ]
        }
      ]
    },
    {
      "cell_type": "code",
      "source": [
        "model = Sequential([\n",
        "    UpSampling2D(size=(7, 7)),\n",
        "    RandomFlip(\"horizontal\"),\n",
        "    RandomTranslation(0.2,0.2),\n",
        "    RandomRotation(0.2),\n",
        "    RandomZoom(0.2),\n",
        "    RandomShear(0.2),\n",
        "    RandomBrightness(0.2,value_range=(0,1)),\n",
        "    RandomContrast(0.2),\n",
        "    resnet,\n",
        "    Dropout(0.25),\n",
        "    Dense(256, activation=\"sigmoid\", kernel_regularizer = tf.keras.regularizers.L1(0.001)),\n",
        "    Dropout(0.5),\n",
        "    Dense(num_classes, activation=\"softmax\", kernel_regularizer = tf.keras.regularizers.L2(0.001) )])"
      ],
      "metadata": {
        "id": "KzvXEQal81hi"
      },
      "execution_count": 40,
      "outputs": []
    },
    {
      "cell_type": "code",
      "source": [
        "model.compile(optimizer='adam', loss='kl_divergence', metrics=['accuracy'])\n",
        "early_stopping_callback = EarlyStopping(monitor='val_loss', patience=5, restore_best_weights=True)\n",
        "history = model.fit(X_train, y_train_enseignant, epochs=n_epoch, batch_size=batch_size, validation_split = 0.1,callbacks = early_stopping_callback)\n",
        "model.save(\"/root/modele_enseigne.keras\")"
      ],
      "metadata": {
        "colab": {
          "base_uri": "https://localhost:8080/"
        },
        "id": "g_WFfeF--Sz2",
        "outputId": "edeb7587-43aa-4b6c-a7b7-9dc3fb6b2f9d"
      },
      "execution_count": 41,
      "outputs": [
        {
          "output_type": "stream",
          "name": "stdout",
          "text": [
            "Epoch 1/1000\n",
            "113/113 [==============================] - 40s 265ms/step - loss: 5.3630 - accuracy: 0.5674 - val_loss: 2.6600 - val_accuracy: 0.6406\n",
            "Epoch 2/1000\n",
            "113/113 [==============================] - 29s 259ms/step - loss: 2.0633 - accuracy: 0.7009 - val_loss: 1.7448 - val_accuracy: 0.6542\n",
            "Epoch 3/1000\n",
            "113/113 [==============================] - 29s 259ms/step - loss: 1.7098 - accuracy: 0.7152 - val_loss: 1.5873 - val_accuracy: 0.6694\n",
            "Epoch 4/1000\n",
            "113/113 [==============================] - 29s 259ms/step - loss: 1.6005 - accuracy: 0.7216 - val_loss: 1.5497 - val_accuracy: 0.6704\n",
            "Epoch 5/1000\n",
            "113/113 [==============================] - 29s 259ms/step - loss: 1.5250 - accuracy: 0.7345 - val_loss: 1.4691 - val_accuracy: 0.6820\n",
            "Epoch 6/1000\n",
            "113/113 [==============================] - 29s 259ms/step - loss: 1.4685 - accuracy: 0.7401 - val_loss: 1.7352 - val_accuracy: 0.6024\n",
            "Epoch 7/1000\n",
            "113/113 [==============================] - 29s 259ms/step - loss: 1.4116 - accuracy: 0.7501 - val_loss: 1.4393 - val_accuracy: 0.6758\n",
            "Epoch 8/1000\n",
            "113/113 [==============================] - 29s 258ms/step - loss: 1.3744 - accuracy: 0.7542 - val_loss: 1.5176 - val_accuracy: 0.6552\n",
            "Epoch 9/1000\n",
            "113/113 [==============================] - 29s 258ms/step - loss: 1.3334 - accuracy: 0.7602 - val_loss: 1.4729 - val_accuracy: 0.6614\n",
            "Epoch 10/1000\n",
            "113/113 [==============================] - 29s 259ms/step - loss: 1.3055 - accuracy: 0.7669 - val_loss: 1.3889 - val_accuracy: 0.6722\n",
            "Epoch 11/1000\n",
            "113/113 [==============================] - 29s 259ms/step - loss: 1.2756 - accuracy: 0.7711 - val_loss: 1.3540 - val_accuracy: 0.6916\n",
            "Epoch 12/1000\n",
            "113/113 [==============================] - 29s 259ms/step - loss: 1.2456 - accuracy: 0.7794 - val_loss: 1.3569 - val_accuracy: 0.6854\n",
            "Epoch 13/1000\n",
            "113/113 [==============================] - 29s 258ms/step - loss: 1.2299 - accuracy: 0.7795 - val_loss: 1.3790 - val_accuracy: 0.6776\n",
            "Epoch 14/1000\n",
            "113/113 [==============================] - 29s 258ms/step - loss: 1.2089 - accuracy: 0.7856 - val_loss: 1.3723 - val_accuracy: 0.6788\n",
            "Epoch 15/1000\n",
            "113/113 [==============================] - 29s 258ms/step - loss: 1.1850 - accuracy: 0.7878 - val_loss: 1.3806 - val_accuracy: 0.6782\n",
            "Epoch 16/1000\n",
            "113/113 [==============================] - 29s 259ms/step - loss: 1.1687 - accuracy: 0.7938 - val_loss: 1.3301 - val_accuracy: 0.6896\n",
            "Epoch 17/1000\n",
            "113/113 [==============================] - 29s 259ms/step - loss: 1.1509 - accuracy: 0.7982 - val_loss: 1.3071 - val_accuracy: 0.6868\n",
            "Epoch 18/1000\n",
            "113/113 [==============================] - 29s 258ms/step - loss: 1.1435 - accuracy: 0.7982 - val_loss: 1.3478 - val_accuracy: 0.6802\n",
            "Epoch 19/1000\n",
            "113/113 [==============================] - 29s 258ms/step - loss: 1.1310 - accuracy: 0.7989 - val_loss: 1.3178 - val_accuracy: 0.6870\n",
            "Epoch 20/1000\n",
            "113/113 [==============================] - 29s 259ms/step - loss: 1.1056 - accuracy: 0.8063 - val_loss: 1.2900 - val_accuracy: 0.6960\n",
            "Epoch 21/1000\n",
            "113/113 [==============================] - 29s 259ms/step - loss: 1.0943 - accuracy: 0.8096 - val_loss: 1.2636 - val_accuracy: 0.7022\n",
            "Epoch 22/1000\n",
            "113/113 [==============================] - 29s 258ms/step - loss: 1.0820 - accuracy: 0.8119 - val_loss: 1.4019 - val_accuracy: 0.6666\n",
            "Epoch 23/1000\n",
            "113/113 [==============================] - 29s 258ms/step - loss: 1.0751 - accuracy: 0.8134 - val_loss: 1.2996 - val_accuracy: 0.6850\n",
            "Epoch 24/1000\n",
            "113/113 [==============================] - 29s 258ms/step - loss: 1.0531 - accuracy: 0.8177 - val_loss: 1.2643 - val_accuracy: 0.7032\n",
            "Epoch 25/1000\n",
            "113/113 [==============================] - 29s 258ms/step - loss: 1.0508 - accuracy: 0.8201 - val_loss: 1.3328 - val_accuracy: 0.6846\n",
            "Epoch 26/1000\n",
            "113/113 [==============================] - 29s 259ms/step - loss: 1.0373 - accuracy: 0.8222 - val_loss: 1.2586 - val_accuracy: 0.6950\n",
            "Epoch 27/1000\n",
            "113/113 [==============================] - 29s 259ms/step - loss: 1.0244 - accuracy: 0.8254 - val_loss: 1.2317 - val_accuracy: 0.7106\n",
            "Epoch 28/1000\n",
            "113/113 [==============================] - 29s 259ms/step - loss: 1.0165 - accuracy: 0.8302 - val_loss: 1.2221 - val_accuracy: 0.7116\n",
            "Epoch 29/1000\n",
            "113/113 [==============================] - 29s 259ms/step - loss: 1.0113 - accuracy: 0.8282 - val_loss: 1.2457 - val_accuracy: 0.6948\n",
            "Epoch 30/1000\n",
            "113/113 [==============================] - 29s 258ms/step - loss: 0.9927 - accuracy: 0.8327 - val_loss: 1.2912 - val_accuracy: 0.6852\n",
            "Epoch 31/1000\n",
            "113/113 [==============================] - 29s 258ms/step - loss: 0.9958 - accuracy: 0.8328 - val_loss: 1.2588 - val_accuracy: 0.6902\n",
            "Epoch 32/1000\n",
            "113/113 [==============================] - 29s 258ms/step - loss: 0.9863 - accuracy: 0.8319 - val_loss: 1.2289 - val_accuracy: 0.7014\n",
            "Epoch 33/1000\n",
            "113/113 [==============================] - 29s 259ms/step - loss: 0.9845 - accuracy: 0.8343 - val_loss: 1.2454 - val_accuracy: 0.6946\n"
          ]
        }
      ]
    },
    {
      "cell_type": "code",
      "source": [
        "model.evaluate(X_test,y_test)"
      ],
      "metadata": {
        "colab": {
          "base_uri": "https://localhost:8080/"
        },
        "id": "IKqpEJoHtoHH",
        "outputId": "9ec05d81-876b-4b62-ff99-fce98c32dbe5"
      },
      "execution_count": 42,
      "outputs": [
        {
          "output_type": "stream",
          "name": "stdout",
          "text": [
            "313/313 [==============================] - 3s 8ms/step - loss: 1.6528 - accuracy: 0.6975\n"
          ]
        },
        {
          "output_type": "execute_result",
          "data": {
            "text/plain": [
              "[1.6528387069702148, 0.6974999904632568]"
            ]
          },
          "metadata": {},
          "execution_count": 42
        }
      ]
    },
    {
      "cell_type": "code",
      "source": [
        "ResNet18, preprocess_input = Classifiers.get('resnet18')\n",
        "resnet = ResNet18((224, 224, 3), weights='imagenet', include_top=False)\n",
        "resnet_output = GlobalAveragePooling2D()(resnet.output)\n",
        "resnet = Model(inputs=resnet.input, outputs=resnet_output)\n",
        "model_temoin = Sequential([\n",
        "    UpSampling2D(size=(7, 7)),\n",
        "    RandomFlip(\"horizontal\"),\n",
        "    RandomTranslation(0.2,0.2),\n",
        "    RandomRotation(0.2),\n",
        "    RandomZoom(0.2),\n",
        "    RandomShear(0.2),\n",
        "    RandomBrightness(0.2,value_range=(0,1)),\n",
        "    RandomContrast(0.2),\n",
        "    resnet,\n",
        "    Dropout(0.25),\n",
        "    Dense(256, activation=\"sigmoid\", kernel_regularizer = tf.keras.regularizers.L1(0.001)),\n",
        "    Dropout(0.5),\n",
        "    Dense(num_classes, activation=\"softmax\", kernel_regularizer = tf.keras.regularizers.L2(0.001))])"
      ],
      "metadata": {
        "id": "LHLNSyJQ-9Vv"
      },
      "execution_count": 52,
      "outputs": []
    },
    {
      "cell_type": "code",
      "source": [
        "model_temoin.compile(optimizer='adam', loss='categorical_crossentropy', metrics=['accuracy'])\n",
        "early_stopping_callback = EarlyStopping(monitor='val_loss', patience=5, restore_best_weights=True)\n",
        "history_temoin = model_temoin.fit(X_train, y_train, epochs=n_epoch, batch_size=batch_size, validation_split = 0.1,callbacks = early_stopping_callback)"
      ],
      "metadata": {
        "colab": {
          "base_uri": "https://localhost:8080/"
        },
        "id": "4EzwIPl4tlDB",
        "outputId": "5eb899be-da6e-471d-9a70-5e84c329871d"
      },
      "execution_count": 53,
      "outputs": [
        {
          "output_type": "stream",
          "name": "stdout",
          "text": [
            "Epoch 1/1000\n",
            "113/113 [==============================] - 40s 266ms/step - loss: 6.6940 - accuracy: 0.1256 - val_loss: 6.1290 - val_accuracy: 0.0060\n",
            "Epoch 2/1000\n",
            "113/113 [==============================] - 29s 259ms/step - loss: 3.8506 - accuracy: 0.2502 - val_loss: 5.7719 - val_accuracy: 0.0088\n",
            "Epoch 3/1000\n",
            "113/113 [==============================] - 29s 259ms/step - loss: 3.4178 - accuracy: 0.3245 - val_loss: 6.2616 - val_accuracy: 0.0098\n",
            "Epoch 4/1000\n",
            "113/113 [==============================] - 29s 259ms/step - loss: 3.1687 - accuracy: 0.3831 - val_loss: 5.5017 - val_accuracy: 0.0452\n",
            "Epoch 5/1000\n",
            "113/113 [==============================] - 29s 259ms/step - loss: 2.9707 - accuracy: 0.4344 - val_loss: 5.8856 - val_accuracy: 0.0480\n",
            "Epoch 6/1000\n",
            "113/113 [==============================] - 29s 259ms/step - loss: 2.8198 - accuracy: 0.4712 - val_loss: 5.0910 - val_accuracy: 0.1194\n",
            "Epoch 7/1000\n",
            "113/113 [==============================] - 29s 259ms/step - loss: 2.6866 - accuracy: 0.5066 - val_loss: 4.8132 - val_accuracy: 0.1758\n",
            "Epoch 8/1000\n",
            "113/113 [==============================] - 29s 259ms/step - loss: 2.5931 - accuracy: 0.5269 - val_loss: 3.4301 - val_accuracy: 0.3624\n",
            "Epoch 9/1000\n",
            "113/113 [==============================] - 29s 259ms/step - loss: 2.5109 - accuracy: 0.5493 - val_loss: 2.7491 - val_accuracy: 0.4886\n",
            "Epoch 10/1000\n",
            "113/113 [==============================] - 29s 259ms/step - loss: 2.4119 - accuracy: 0.5726 - val_loss: 2.3026 - val_accuracy: 0.5800\n",
            "Epoch 11/1000\n",
            "113/113 [==============================] - 29s 259ms/step - loss: 2.3214 - accuracy: 0.5972 - val_loss: 2.5444 - val_accuracy: 0.5286\n",
            "Epoch 12/1000\n",
            "113/113 [==============================] - 29s 259ms/step - loss: 2.2796 - accuracy: 0.6050 - val_loss: 2.2626 - val_accuracy: 0.5878\n",
            "Epoch 13/1000\n",
            "113/113 [==============================] - 29s 259ms/step - loss: 2.2056 - accuracy: 0.6249 - val_loss: 2.2395 - val_accuracy: 0.5972\n",
            "Epoch 14/1000\n",
            "113/113 [==============================] - 29s 259ms/step - loss: 2.1454 - accuracy: 0.6411 - val_loss: 2.1549 - val_accuracy: 0.6160\n",
            "Epoch 15/1000\n",
            "113/113 [==============================] - 29s 259ms/step - loss: 2.0936 - accuracy: 0.6521 - val_loss: 2.0776 - val_accuracy: 0.6298\n",
            "Epoch 16/1000\n",
            "113/113 [==============================] - 29s 259ms/step - loss: 2.0436 - accuracy: 0.6650 - val_loss: 2.0975 - val_accuracy: 0.6330\n",
            "Epoch 17/1000\n",
            "113/113 [==============================] - 29s 259ms/step - loss: 1.9849 - accuracy: 0.6817 - val_loss: 2.0818 - val_accuracy: 0.6284\n",
            "Epoch 18/1000\n",
            "113/113 [==============================] - 29s 259ms/step - loss: 1.9365 - accuracy: 0.6898 - val_loss: 1.9763 - val_accuracy: 0.6578\n",
            "Epoch 19/1000\n",
            "113/113 [==============================] - 29s 259ms/step - loss: 1.9147 - accuracy: 0.6963 - val_loss: 2.2372 - val_accuracy: 0.6022\n",
            "Epoch 20/1000\n",
            "113/113 [==============================] - 29s 259ms/step - loss: 1.8667 - accuracy: 0.7066 - val_loss: 2.0456 - val_accuracy: 0.6438\n",
            "Epoch 21/1000\n",
            "113/113 [==============================] - 29s 259ms/step - loss: 1.8217 - accuracy: 0.7199 - val_loss: 2.0226 - val_accuracy: 0.6556\n",
            "Epoch 22/1000\n",
            "113/113 [==============================] - 29s 259ms/step - loss: 1.7920 - accuracy: 0.7270 - val_loss: 2.0654 - val_accuracy: 0.6456\n",
            "Epoch 23/1000\n",
            "113/113 [==============================] - 29s 259ms/step - loss: 1.7577 - accuracy: 0.7338 - val_loss: 1.9791 - val_accuracy: 0.6542\n"
          ]
        }
      ]
    },
    {
      "cell_type": "code",
      "source": [
        "model_temoin.evaluate(X_test,y_test)"
      ],
      "metadata": {
        "colab": {
          "base_uri": "https://localhost:8080/"
        },
        "id": "Oaewj3mxt4tC",
        "outputId": "1d821888-8dce-4c0c-a3ff-9356a05991fc"
      },
      "execution_count": 54,
      "outputs": [
        {
          "output_type": "stream",
          "name": "stdout",
          "text": [
            "313/313 [==============================] - 2s 7ms/step - loss: 1.9605 - accuracy: 0.6699\n"
          ]
        },
        {
          "output_type": "execute_result",
          "data": {
            "text/plain": [
              "[1.9604902267456055, 0.6699000000953674]"
            ]
          },
          "metadata": {},
          "execution_count": 54
        }
      ]
    },
    {
      "cell_type": "code",
      "source": [
        "from matplotlib import pyplot as plt\n",
        "plt.plot(history.history['accuracy'][:])\n",
        "plt.plot(history.history['val_accuracy'][:])\n",
        "plt.title('Distillation de réponse hors-ligne')\n",
        "plt.ylabel('accuracy')\n",
        "plt.xlabel('epoch')\n",
        "plt.legend(['train', 'val'], loc='upper left')\n",
        "plt.show()"
      ],
      "metadata": {
        "colab": {
          "base_uri": "https://localhost:8080/",
          "height": 472
        },
        "id": "53sx2llcvMWm",
        "outputId": "28d6b03d-50ff-4f69-a0bd-c9197af07279"
      },
      "execution_count": 57,
      "outputs": [
        {
          "output_type": "display_data",
          "data": {
            "text/plain": [
              "<Figure size 640x480 with 1 Axes>"
            ],
            "image/png": "[encoded data removed]"
          },
          "metadata": {}
        }
      ]
    },
    {
      "cell_type": "code",
      "source": [
        "from matplotlib import pyplot as plt\n",
        "plt.plot(history_temoin.history['accuracy'][:])\n",
        "plt.plot(history_temoin.history['val_accuracy'][:])\n",
        "plt.title('Modèle témoin')\n",
        "plt.ylabel('accuracy')\n",
        "plt.xlabel('epoch')\n",
        "plt.legend(['train', 'val'], loc='upper left')\n",
        "plt.show()"
      ],
      "metadata": {
        "colab": {
          "base_uri": "https://localhost:8080/",
          "height": 472
        },
        "id": "7PaskcGFz8Gx",
        "outputId": "93045505-4fad-4071-eb9d-0e658748797a"
      },
      "execution_count": 59,
      "outputs": [
        {
          "output_type": "display_data",
          "data": {
            "text/plain": [
              "<Figure size 640x480 with 1 Axes>"
            ],
            "image/png": "[encoded data removed]"
          },
          "metadata": {}
        }
      ]
    },
    {
      "cell_type": "code",
      "source": [],
      "metadata": {
        "id": "7QQk6Vxo0pfi"
      },
      "execution_count": null,
      "outputs": []
    }
  ]
}