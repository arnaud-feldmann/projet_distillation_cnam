{
 "cells": [
  {
   "cell_type": "code",
   "execution_count": 1,
   "id": "00e32984-de6e-4871-a8f1-d59fa8da7400",
   "metadata": {},
   "outputs": [
    {
     "name": "stdout",
     "output_type": "stream",
     "text": [
      "Requirement already satisfied: image_classifiers in /opt/mamba/lib/python3.12/site-packages (1.0.0)\n",
      "Requirement already satisfied: keras-applications<=1.0.8,>=1.0.7 in /opt/mamba/lib/python3.12/site-packages (from image_classifiers) (1.0.8)\n",
      "Requirement already satisfied: numpy>=1.9.1 in /opt/mamba/lib/python3.12/site-packages (from keras-applications<=1.0.8,>=1.0.7->image_classifiers) (1.26.4)\n",
      "Requirement already satisfied: h5py in /opt/mamba/lib/python3.12/site-packages (from keras-applications<=1.0.8,>=1.0.7->image_classifiers) (3.11.0)\n"
     ]
    },
    {
     "name": "stderr",
     "output_type": "stream",
     "text": [
      "2024-05-11 20:27:24.307470: I tensorflow/core/util/port.cc:113] oneDNN custom operations are on. You may see slightly different numerical results due to floating-point round-off errors from different computation orders. To turn them off, set the environment variable `TF_ENABLE_ONEDNN_OPTS=0`.\n",
      "2024-05-11 20:27:24.385240: I tensorflow/core/platform/cpu_feature_guard.cc:210] This TensorFlow binary is optimized to use available CPU instructions in performance-critical operations.\n",
      "To enable the following instructions: AVX2 AVX512F AVX512_VNNI FMA, in other operations, rebuild TensorFlow with the appropriate compiler flags.\n",
      "2024-05-11 20:27:25.310954: W tensorflow/compiler/tf2tensorrt/utils/py_utils.cc:38] TF-TRT Warning: Could not find TensorRT\n"
     ]
    }
   ],
   "source": [
    "!pip install image_classifiers\n",
    "#!pip install keras==3.1.1 tensorflow==2.16.1\n",
    "import numpy as np\n",
    "import tensorflow as tf\n",
    "import keras\n",
    "from keras.applications import ResNet50V2\n",
    "from keras.datasets import cifar100\n",
    "from keras import Sequential, Input\n",
    "from keras.layers import Dense, Dropout, RandomFlip, RandomTranslation, RandomRotation,RandomBrightness, RandomContrast, RandomZoom, GlobalAveragePooling2D\n",
    "from keras.applications.resnet_v2 import preprocess_input\n",
    "from keras.models import Model\n",
    "from classification_models.keras import Classifiers\n",
    "from keras.optimizers import SGD,Adam\n",
    "from keras.activations import linear\n",
    "from keras.utils import Progbar\n",
    "from keras.backend import clear_session\n",
    "from tensorflow.nn import softmax_cross_entropy_with_logits\n",
    "import os\n",
    "import re\n",
    "import functools"
   ]
  },
  {
   "cell_type": "code",
   "execution_count": 2,
   "id": "7017d2c0-9d52-4a38-bde8-b7ae9bb8c415",
   "metadata": {},
   "outputs": [],
   "source": [
    "n_epoch = 10 # Sur chaque split glissant (21 splits glissants, chaque donnée sauf aux extrêmités réapparait 5 fois)\n",
    "batch_size = 64\n",
    "taux_validation = 0.1\n",
    "num_classes = 100\n",
    "n_images = 10000 # 5 splits"
   ]
  },
  {
   "cell_type": "code",
   "execution_count": 3,
   "id": "3214c68f-d468-486d-ba0b-1acadab21793",
   "metadata": {},
   "outputs": [],
   "source": [
    "validation_size = int(n_images * taux_validation)\n",
    "train_size = n_images - validation_size"
   ]
  },
  {
   "cell_type": "code",
   "execution_count": 4,
   "id": "75b4dd8c-991e-408b-a4ee-fa35dd060c94",
   "metadata": {},
   "outputs": [
    {
     "name": "stderr",
     "output_type": "stream",
     "text": [
      "2024-05-11 20:27:26.360678: I tensorflow/core/common_runtime/gpu/gpu_device.cc:1928] Created device /job:localhost/replica:0/task:0/device:GPU:0 with 13290 MB memory:  -> device: 0, name: NVIDIA A2, pci bus id: 0000:18:00.0, compute capability: 8.6\n"
     ]
    }
   ],
   "source": [
    "model_enseignant = Sequential([\n",
    "    Input((224,224,3)),\n",
    "    ResNet50V2(include_top=False, weights='imagenet', pooling=\"avg\"),\n",
    "    Dropout(0.25),\n",
    "    Dense(256, activation=\"sigmoid\", kernel_regularizer = tf.keras.regularizers.L1(0.001)),\n",
    "    Dropout(0.5),\n",
    "    Dense(num_classes, activation=\"softmax\", kernel_regularizer = tf.keras.regularizers.L2(0.001))\n",
    "])\n",
    "for layer in model_enseignant.layers:\n",
    "    if layer.name == \"resnet50v2\":\n",
    "        for layer in layer.layers[:]:\n",
    "          if (re.match(\"^.*(_3_conv|_bn)$\", layer.name)):\n",
    "            layer.trainable = True\n",
    "          else:\n",
    "            layer.trainable = False"
   ]
  },
  {
   "cell_type": "code",
   "execution_count": 5,
   "id": "614fdd71-6e71-483a-a206-7a484f057063",
   "metadata": {},
   "outputs": [],
   "source": [
    "def preprocessing(image, label):\n",
    "    image = tf.image.resize(image, (224, 224))\n",
    "    label = tf.squeeze(tf.one_hot(label, depth = num_classes), axis = 0)\n",
    "    return  image, label\n",
    "\n",
    "augmentation_donnees_keras = Sequential([\n",
    "    RandomFlip(\"horizontal\"),\n",
    "    RandomTranslation(0.2,0.2),\n",
    "    RandomRotation(0.2),\n",
    "    RandomZoom(0.2),\n",
    "    RandomContrast(0.2),\n",
    "    RandomBrightness(0.2,value_range=(0,1))\n",
    "])\n",
    "\n",
    "def augmentation_donnees(image, label):\n",
    "    return augmentation_donnees_keras(image/255.0, training = True)*255.0, label\n",
    "\n",
    "def preprocess_resnet(image, label):\n",
    "    return preprocess_input(image), label\n",
    "\n",
    "def train_val_split(train_dataset, validation_size):\n",
    "    X_train, y_train = train_dataset\n",
    "    return (X_train[:train_size,...], y_train[:train_size,...]), (X_train[train_size:,...], y_train[train_size:,...])\n",
    "\n",
    "def make_train_val(train_dataset):\n",
    "    train_dataset, validation_dataset = train_val_split(train_dataset, validation_size)\n",
    "    return train_dataset, validation_dataset\n",
    "\n",
    "def vers_dataset_train(train):\n",
    "    train_dataset = tf.data.Dataset.from_tensor_slices(train).map(preprocessing).cache().repeat().shuffle(train_size).batch(batch_size).map(augmentation_donnees, num_parallel_calls = tf.data.AUTOTUNE).map(preprocess_resnet, num_parallel_calls = tf.data.AUTOTUNE).prefetch(tf.data.AUTOTUNE)\n",
    "    return train_dataset\n",
    "\n",
    "def vers_dataset_val(val):\n",
    "    validation_dataset = tf.data.Dataset.from_tensor_slices(val).map(preprocessing).batch(batch_size).map(preprocess_resnet).cache().prefetch(tf.data.AUTOTUNE)\n",
    "    return validation_dataset\n",
    "\n",
    "def faire_splits_glissants(array, n = 25):\n",
    "    nsqrt = int(np.sqrt(n))\n",
    "    splits = np.split(array, n)\n",
    "    splits = [np.vstack(splits[i:i+nsqrt]) for i in range(n - nsqrt + 1)]\n",
    "    return splits\n",
    "\n",
    "def load_cifar_train_splits_val():\n",
    "    train, _ = cifar100.load_data()\n",
    "    train, val = make_train_val(train)\n",
    "    train_splits = list(zip(*map(faire_splits_glissants, train)))\n",
    "    return train_splits, val"
   ]
  },
  {
   "cell_type": "code",
   "execution_count": 6,
   "id": "73061cae-6b54-425c-8a4c-3efb3fe929cb",
   "metadata": {},
   "outputs": [],
   "source": [
    "def get_modele_logits(modele):\n",
    "    config = modele.layers[-1].get_config()\n",
    "    config['activation'] = linear\n",
    "    config['name'] = 'logits'\n",
    "    res = Model(inputs=modele.inputs, outputs=[Dense(**config)(modele.layers[-2].output)])\n",
    "    res.layers[-1].set_weights([x.numpy() for x in modele.layers[-1].weights])\n",
    "    res.compile(metrics=['accuracy'])\n",
    "    return res\n",
    "\n",
    "def get_regularisation(model):\n",
    "    return [(getattr(layer,reg),layer.kernel) for layer in model.layers for reg in [\"kernel_regularizer\", \"bias_regularizer\"] if hasattr(layer, reg) and getattr(layer,reg) is not None]\n",
    "\n",
    "@tf.function\n",
    "def perte_regularisation(regularisation):\n",
    "    return tf.add_n([tf.reduce_sum(reg(kernel)) for reg, kernel in regularisation])\n",
    "\n",
    "@tf.function\n",
    "def compte_bons(x,y):\n",
    "    return tf.reduce_sum(tf.cast(tf.equal(tf.argmax(x, axis = 1), tf.argmax(y, axis = 1)), tf.float32))\n",
    "\n",
    "@tf.function\n",
    "def softmax(logits, temp):\n",
    "    expo = tf.exp(logits / temp)\n",
    "    return expo / tf.reduce_sum(expo, axis = 1, keepdims=True)\n",
    "\n",
    "@tf.function\n",
    "def ce(x, y_logits, temp):\n",
    "    return softmax_cross_entropy_with_logits(x, y_logits / temp) * temp**2\n",
    "\n",
    "def init_csv_log(fichier):\n",
    "    with open(fichier,'w') as file:\n",
    "        file.write(\"split, epoch, accuracy_etu, accuracy_ens, accuracy_dis, val_accuracy_etu, val_accuracy_ens, val_accuracy_dis\\n\")\n",
    "def append_csv_log(fichier, split, epoch, accuracy_etu, accuracy_ens, accuracy_dis, val_accuracy_etu, val_accuracy_ens, val_accuracy_dis):\n",
    "    with open(fichier,'a') as file:\n",
    "        file.write(f\"{split:d},{epoch:d},{accuracy_etu:.2f},{accuracy_ens:.2f},{accuracy_dis:.2f},{val_accuracy_etu:.2f},{val_accuracy_ens:.2f},{val_accuracy_dis:.2f}\\n\")\n",
    "\n",
    "def forward_backward_pass_impl(train_dataset_iter, enseignant_logit_model, etudiant_logit_model, alpha, temp, optim_enseignant, optim_etudiant, regularisation_etudiant, regularisation_enseignant):\n",
    "    X_batch, y_batch = next(train_dataset_iter)\n",
    "    with tf.GradientTape() as tape_ens:\n",
    "        enseignant_estim_logit = enseignant_logit_model(X_batch, training = True)\n",
    "        perte_ens = softmax_cross_entropy_with_logits(y_batch,enseignant_estim_logit) + perte_regularisation(regularisation_enseignant)\n",
    "    enseignant_estim_softmax = softmax(enseignant_estim_logit, temp)\n",
    "    with tf.GradientTape() as tape_etu:\n",
    "        etudiant_estim_logit = etudiant_logit_model(X_batch, training = True)\n",
    "        perte_etu = alpha * softmax_cross_entropy_with_logits(y_batch,etudiant_estim_logit) + (1-alpha) * ce(enseignant_estim_softmax,etudiant_estim_logit, temp) + perte_regularisation(regularisation_etudiant)\n",
    "    grad_etudiant = tape_etu.gradient(perte_etu, etudiant_logit_model.trainable_variables)\n",
    "    grad_enseignant = tape_ens.gradient(perte_ens, enseignant_logit_model.trainable_variables)\n",
    "    optim_etudiant.apply_gradients(zip(grad_etudiant, etudiant_logit_model.trainable_variables))\n",
    "    optim_enseignant.apply_gradients(zip(grad_enseignant, enseignant_logit_model.trainable_variables))\n",
    "    return compte_bons(etudiant_estim_logit,y_batch), compte_bons(enseignant_estim_logit,y_batch), compte_bons(etudiant_estim_logit,enseignant_estim_logit)\n",
    "\n",
    "@tf.function\n",
    "def val_accuracies(etudiant, enseignant, validation_dataset):\n",
    "    val_bons_etu, val_bons_ens, val_bons_dis = 0.0, 0.0, 0.0\n",
    "    for X_batch, y_batch in validation_dataset:\n",
    "        etu_prev = etudiant(X_batch, training = False)\n",
    "        ens_prev = enseignant(X_batch, training = False)\n",
    "        val_bons_etu += compte_bons(etu_prev, y_batch)\n",
    "        val_bons_ens += compte_bons(ens_prev, y_batch)\n",
    "        val_bons_dis += compte_bons(etu_prev, ens_prev)\n",
    "    nb_obs_val = tf.cast((validation_size//batch_size) * batch_size, tf.float32)\n",
    "    val_accuracy_etu = val_bons_etu / nb_obs_val\n",
    "    val_accuracy_ens = val_bons_ens / nb_obs_val\n",
    "    val_accuracy_dis = val_bons_dis / nb_obs_val\n",
    "    return val_accuracy_etu, val_accuracy_ens, val_accuracy_dis\n",
    "\n",
    "def distillateur_kl_en_ligne(etudiant, enseignant, train_dataset, validation_dataset, temp, nom_modele, n_epoch, alpha, split):\n",
    "    etudiant_logit_model = get_modele_logits(etudiant)\n",
    "    enseignant_logit_model = get_modele_logits(enseignant)\n",
    "    optim_etudiant = SGD(learning_rate=0.001)\n",
    "    optim_enseignant = Adam(learning_rate=0.001)\n",
    "    print(f\"~~~~~ Distillation split n°{split + 1} ~~~~~~\")\n",
    "    val_accuracy_etu_max, val_accuracy_ens_max, val_accuracy_dis_max  = 0, 0, 0\n",
    "    regularisation_etudiant = get_regularisation(etudiant)\n",
    "    regularisation_enseignant = get_regularisation(enseignant)\n",
    "    forward_backward_pass = tf.function(forward_backward_pass_impl)\n",
    "    train_dataset_iter = iter(train_dataset)\n",
    "    # La tf.function ne peut être que locale car son graphe dépend d'étudiant_logit_model et sinon Tensorflow renvoie une erreur à deux applications successives\n",
    "    for epoch in range(n_epoch):\n",
    "        print(f\"Époque {epoch + 1} / {n_epoch}\")\n",
    "        n_batch = train_size//batch_size\n",
    "        barre_progression = Progbar(n_batch, stateful_metrics = [\"acc (etu, train)\", \"acc (ens, train)\", \"acc (dis, train)\"])\n",
    "        bons_epoque_etu, bons_epoque_ens, bons_epoque_dis = 0, 0, 0\n",
    "        for i in range(n_batch):\n",
    "            bons_etu, bons_ens, bons_dis = forward_backward_pass(train_dataset_iter, enseignant_logit_model, etudiant_logit_model, alpha, temp, optim_etudiant, optim_enseignant, regularisation_etudiant, regularisation_enseignant)\n",
    "            bons_epoque_etu += bons_etu.numpy()\n",
    "            bons_epoque_ens += bons_ens.numpy()\n",
    "            bons_epoque_dis += bons_dis.numpy()\n",
    "            n_observ = (i+1) * batch_size\n",
    "            accuracy_etu, accuracy_ens, accuracy_dis = bons_epoque_etu / n_observ, bons_epoque_ens / n_observ, bons_epoque_dis / n_observ\n",
    "            barre_progression.update(i + 1, values = [(\"acc (etu, train)\", accuracy_etu), (\"acc (ens, train)\", accuracy_ens), (\"acc (dis, train)\", accuracy_dis)])\n",
    "        val_accuracy_etu, val_accuracy_ens, val_accuracy_dis = val_accuracies(etudiant, enseignant, validation_dataset)\n",
    "        if epoch + 1 == 10:\n",
    "            optim.learning_rate.assign(0.0001)\n",
    "        append_csv_log(f\"sauvegardes/{nom_modele}_logs.csv\", split, epoch, accuracy_etu, accuracy_ens, accuracy_dis, val_accuracy_etu, val_accuracy_ens, val_accuracy_dis)\n",
    "        print(f\"Accuracy (etu, val) : {val_accuracy_etu:.4f} | Accuracy (ens, val) : {val_accuracy_ens:.4f} | Accuracy (dis, val) : {val_accuracy_dis:.4f}\")"
   ]
  },
  {
   "cell_type": "code",
   "execution_count": 7,
   "id": "2d7370e7-7f99-43ca-8de5-42deaf10cb69",
   "metadata": {},
   "outputs": [],
   "source": [
    "def distillation_resnet18_en_ligne(temp, alpha):\n",
    "    clear_session()\n",
    "    train_splits, val = load_cifar_train_splits_val()\n",
    "    modele = new_modele_resnet()\n",
    "    nom_modele =  f\"model_etudiant_ligne_t{temp:d}\"\n",
    "    init_csv_log(f\"sauvegardes/{nom_modele}_logs.csv\")\n",
    "    validation_dataset = vers_dataset_val(val)\n",
    "    for i, train in enumerate(train_splits):\n",
    "        train_dataset = vers_dataset_train(train)\n",
    "        distillateur_kl_en_ligne(modele, model_enseignant, train_dataset, validation_dataset, temp, nom_modele, n_epoch, 1 if i == 1 else alpha, i)\n",
    "    wd = os.getcwd()\n",
    "    os.system(f\"cp {wd}/sauvegardes/{nom_modele}_checkpoint.keras {wd}/sauvegardes/{nom_modele}.keras\")\n",
    "    os.system(f\"mc cp {wd}/sauvegardes/{nom_modele}.keras s3/afeldmann/projet_cnam/{nom_modele}.keras\")\n",
    "    os.system(f\"mc cp {wd}/sauvegardes/{nom_modele}_logs.csv s3/afeldmann/projet_cnam/{nom_modele}_logs.csv\")"
   ]
  },
  {
   "cell_type": "code",
   "execution_count": 8,
   "id": "e0906365-7153-44d7-b06c-277a8de12fe5",
   "metadata": {},
   "outputs": [],
   "source": [
    "def ResNet18():\n",
    "    resnet18, preprocess_input = Classifiers.get('resnet18')\n",
    "    resnet = resnet18((224, 224, 3), weights='imagenet', include_top=False)\n",
    "    resnet_output = GlobalAveragePooling2D()(resnet.output)\n",
    "    resnet = Model(inputs=resnet.input, outputs=resnet_output)\n",
    "    return resnet\n",
    "\n",
    "def new_modele_resnet():\n",
    "    model = Sequential([\n",
    "        Input((224,224,3)),\n",
    "        ResNet18(),\n",
    "        Dropout(0.25),\n",
    "        Dense(256, activation=\"sigmoid\", kernel_regularizer = tf.keras.regularizers.L1(0.001)),\n",
    "        Dropout(0.5),\n",
    "        Dense(num_classes, activation=\"softmax\", kernel_regularizer = tf.keras.regularizers.L2(0.001))\n",
    "    ])\n",
    "    model.compile(metrics=['accuracy'])\n",
    "    return model"
   ]
  },
  {
   "cell_type": "code",
   "execution_count": null,
   "id": "b567ca39-ce1f-43cf-9fe4-f9ccb4a4ad9c",
   "metadata": {},
   "outputs": [
    {
     "name": "stdout",
     "output_type": "stream",
     "text": [
      "~~~~~ Distillation split n°1 ~~~~~~\n",
      "Époque 1 / 10\n"
     ]
    },
    {
     "name": "stderr",
     "output_type": "stream",
     "text": [
      "2024-05-11 20:27:48.235832: I external/local_xla/xla/stream_executor/cuda/cuda_dnn.cc:465] Loaded cuDNN version 8900\n"
     ]
    }
   ],
   "source": [
    "wd = os.getcwd()\n",
    "os.system(f\"mkdir -p {wd}/sauvegardes\")\n",
    "distillation_resnet18_en_ligne(3, 0.5)"
   ]
  },
  {
   "cell_type": "code",
   "execution_count": null,
   "id": "aee44600-1edc-4747-8815-be2720a1035b",
   "metadata": {},
   "outputs": [],
   "source": []
  }
 ],
 "metadata": {
  "kernelspec": {
   "display_name": "Python 3 (ipykernel)",
   "language": "python",
   "name": "python3"
  },
  "language_info": {
   "codemirror_mode": {
    "name": "ipython",
    "version": 3
   },
   "file_extension": ".py",
   "mimetype": "text/x-python",
   "name": "python",
   "nbconvert_exporter": "python",
   "pygments_lexer": "ipython3",
   "version": "3.12.2"
  }
 },
 "nbformat": 4,
 "nbformat_minor": 5
}
