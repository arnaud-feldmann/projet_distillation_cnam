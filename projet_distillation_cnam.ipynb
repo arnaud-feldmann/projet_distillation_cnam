{
 "cells": [
  {
   "cell_type": "code",
   "execution_count": 1,
   "id": "5c807ab8-0cf2-4df4-82a1-e3306a8bda7e",
   "metadata": {
    "colab": {
     "base_uri": "https://localhost:8080/"
    },
    "id": "5c807ab8-0cf2-4df4-82a1-e3306a8bda7e",
    "outputId": "47cebb30-b690-4317-a277-03ef04c16dc1"
   },
   "outputs": [
    {
     "name": "stdout",
     "output_type": "stream",
     "text": [
      "Requirement already satisfied: matplotlib in /opt/mamba/lib/python3.11/site-packages (3.8.4)\n",
      "Requirement already satisfied: contourpy>=1.0.1 in /opt/mamba/lib/python3.11/site-packages (from matplotlib) (1.2.1)\n",
      "Requirement already satisfied: cycler>=0.10 in /opt/mamba/lib/python3.11/site-packages (from matplotlib) (0.12.1)\n",
      "Requirement already satisfied: fonttools>=4.22.0 in /opt/mamba/lib/python3.11/site-packages (from matplotlib) (4.51.0)\n",
      "Requirement already satisfied: kiwisolver>=1.3.1 in /opt/mamba/lib/python3.11/site-packages (from matplotlib) (1.4.5)\n",
      "Requirement already satisfied: numpy>=1.21 in /opt/mamba/lib/python3.11/site-packages (from matplotlib) (1.26.4)\n",
      "Requirement already satisfied: packaging>=20.0 in /opt/mamba/lib/python3.11/site-packages (from matplotlib) (24.0)\n",
      "Requirement already satisfied: pillow>=8 in /opt/mamba/lib/python3.11/site-packages (from matplotlib) (10.3.0)\n",
      "Requirement already satisfied: pyparsing>=2.3.1 in /opt/mamba/lib/python3.11/site-packages (from matplotlib) (3.1.2)\n",
      "Requirement already satisfied: python-dateutil>=2.7 in /opt/mamba/lib/python3.11/site-packages (from matplotlib) (2.9.0)\n",
      "Requirement already satisfied: six>=1.5 in /opt/mamba/lib/python3.11/site-packages (from python-dateutil>=2.7->matplotlib) (1.16.0)\n"
     ]
    },
    {
     "name": "stderr",
     "output_type": "stream",
     "text": [
      "2024-04-09 10:18:23.522338: I tensorflow/core/util/port.cc:113] oneDNN custom operations are on. You may see slightly different numerical results due to floating-point round-off errors from different computation orders. To turn them off, set the environment variable `TF_ENABLE_ONEDNN_OPTS=0`.\n",
      "2024-04-09 10:18:23.603570: I tensorflow/core/platform/cpu_feature_guard.cc:210] This TensorFlow binary is optimized to use available CPU instructions in performance-critical operations.\n",
      "To enable the following instructions: AVX2 AVX512F AVX512_VNNI FMA, in other operations, rebuild TensorFlow with the appropriate compiler flags.\n",
      "2024-04-09 10:18:24.750283: W tensorflow/compiler/tf2tensorrt/utils/py_utils.cc:38] TF-TRT Warning: Could not find TensorRT\n"
     ]
    }
   ],
   "source": [
    "!pip install matplotlib\n",
    "import numpy as np\n",
    "import matplotlib.pyplot as plt\n",
    "import tensorflow as tf\n",
    "from tensorflow.keras.applications import ResNet50V2\n",
    "from tensorflow.keras.datasets import cifar100\n",
    "from tensorflow.keras import Sequential, Input\n",
    "from tensorflow.keras.layers import Dense, UpSampling2D, Dropout, BatchNormalization, RandomFlip, RandomTranslation, RandomRotation,RandomBrightness, RandomContrast, RandomZoom\n",
    "from tensorflow.keras.callbacks import EarlyStopping, CSVLogger, ModelCheckpoint\n",
    "from tensorflow.keras.applications.resnet_v2 import preprocess_input\n",
    "import re"
   ]
  },
  {
   "cell_type": "code",
   "execution_count": 2,
   "id": "35c445a8-5f01-4778-b05d-b621584968ed",
   "metadata": {
    "id": "35c445a8-5f01-4778-b05d-b621584968ed"
   },
   "outputs": [],
   "source": [
    "n_epoch = 100\n",
    "batch_size = 100\n",
    "taux_validation = 0.1\n",
    "num_classes = 100\n",
    "n_images = 50000 # Pour l'entrainement, et 10000 pour le test"
   ]
  },
  {
   "cell_type": "code",
   "execution_count": 3,
   "id": "9a44d7d2-b92d-45c2-b811-b1665944a5ac",
   "metadata": {
    "id": "9a44d7d2-b92d-45c2-b811-b1665944a5ac"
   },
   "outputs": [
    {
     "name": "stderr",
     "output_type": "stream",
     "text": [
      "2024-04-09 10:18:25.773030: I tensorflow/core/common_runtime/gpu/gpu_device.cc:1928] Created device /job:localhost/replica:0/task:0/device:GPU:0 with 12035 MB memory:  -> device: 0, name: NVIDIA A2, pci bus id: 0000:b1:00.0, compute capability: 8.6\n"
     ]
    }
   ],
   "source": [
    "def preprocessing(image, label):\n",
    "    image = tf.image.resize(image, (224, 224))\n",
    "    label = tf.squeeze(tf.one_hot(label, depth = num_classes), axis = 0)\n",
    "    return  image, label\n",
    "\n",
    "augmentation_donnees_keras = Sequential([\n",
    "    RandomFlip(\"horizontal\"),\n",
    "    RandomTranslation(0.2,0.2),\n",
    "    RandomRotation(0.2),\n",
    "    RandomZoom(0.2),\n",
    "    RandomContrast(0.2),\n",
    "    RandomBrightness(0.2,value_range=(0,1))\n",
    "])\n",
    "\n",
    "def augmentation_donnees(image, label):\n",
    "    return augmentation_donnees_keras(image/255.0, training = True)*255.0, label\n",
    "\n",
    "def preprocess_resnet(image, label):\n",
    "    return preprocess_input(image), label\n",
    "\n",
    "train_dataset, test_dataset = cifar100.load_data()\n",
    "\n",
    "validation_size = int(n_images * taux_validation)\n",
    "train_size = n_images - validation_size\n",
    "train_dataset = tf.data.Dataset.from_tensor_slices(train_dataset).map(preprocessing).shuffle(n_images, reshuffle_each_iteration=False)\n",
    "test_dataset = tf.data.Dataset.from_tensor_slices(test_dataset).map(preprocessing)\n",
    "\n",
    "validation_dataset = train_dataset.take(validation_size).batch(batch_size).map(preprocess_resnet).prefetch(tf.data.AUTOTUNE)\n",
    "train_dataset = train_dataset.skip(validation_size).batch(batch_size).map(augmentation_donnees).map(preprocess_resnet).prefetch(tf.data.AUTOTUNE)\n",
    "test_dataset = test_dataset.batch(batch_size).map(preprocess_resnet).prefetch(tf.data.AUTOTUNE)"
   ]
  },
  {
   "cell_type": "code",
   "execution_count": 4,
   "id": "0bcGLfqrn-lx",
   "metadata": {
    "id": "0bcGLfqrn-lx"
   },
   "outputs": [],
   "source": [
    "model = Sequential([\n",
    "    ResNet50V2(include_top=False, weights='imagenet', pooling=\"avg\"),\n",
    "    Dropout(0.25),\n",
    "    Dense(256, activation=\"sigmoid\", kernel_regularizer = tf.keras.regularizers.L1(0.001)),\n",
    "    Dropout(0.5),\n",
    "    Dense(num_classes, activation=\"softmax\", kernel_regularizer = tf.keras.regularizers.L2(0.001))\n",
    "])"
   ]
  },
  {
   "cell_type": "code",
   "execution_count": null,
   "id": "e0a724f8-2849-48b8-b948-13194a4f8f78",
   "metadata": {
    "colab": {
     "base_uri": "https://localhost:8080/"
    },
    "id": "e0a724f8-2849-48b8-b948-13194a4f8f78",
    "outputId": "353ab947-f129-464a-c9e5-c9a6ffc57664"
   },
   "outputs": [
    {
     "name": "stdout",
     "output_type": "stream",
     "text": [
      "Epoch 1/100\n"
     ]
    },
    {
     "name": "stderr",
     "output_type": "stream",
     "text": [
      "WARNING: All log messages before absl::InitializeLog() is called are written to STDERR\n",
      "I0000 00:00:1712657924.647245   94486 service.cc:145] XLA service 0x7f6978001eb0 initialized for platform CUDA (this does not guarantee that XLA will be used). Devices:\n",
      "I0000 00:00:1712657924.647294   94486 service.cc:153]   StreamExecutor device (0): NVIDIA A2, Compute Capability 8.6\n",
      "2024-04-09 10:18:44.906589: I tensorflow/compiler/mlir/tensorflow/utils/dump_mlir_util.cc:268] disabling MLIR crash reproducer, set env var `MLIR_CRASH_REPRODUCER_DIRECTORY` to enable.\n",
      "2024-04-09 10:18:46.143498: I external/local_xla/xla/stream_executor/cuda/cuda_dnn.cc:465] Loaded cuDNN version 8900\n",
      "WARNING: All log messages before absl::InitializeLog() is called are written to STDERR\n",
      "I0000 00:00:1712657929.290208   94675 asm_compiler.cc:369] ptxas warning : Registers are spilled to local memory in function 'triton_gemm_dot_6102', 108 bytes spill stores, 108 bytes spill loads\n",
      "\n",
      "I0000 00:00:1712657929.529313   94702 asm_compiler.cc:369] ptxas warning : Registers are spilled to local memory in function 'triton_gemm_dot_8613', 4 bytes spill stores, 4 bytes spill loads\n",
      "\n",
      "I0000 00:00:1712657929.808113   94706 asm_compiler.cc:369] ptxas warning : Registers are spilled to local memory in function 'triton_gemm_dot_8613', 208 bytes spill stores, 208 bytes spill loads\n",
      "\n",
      "I0000 00:00:1712657949.364683   94486 device_compiler.h:188] Compiled cluster using XLA!  This line is logged at most once for the lifetime of the process.\n"
     ]
    },
    {
     "name": "stdout",
     "output_type": "stream",
     "text": [
      "\u001b[1m450/450\u001b[0m \u001b[32m━━━━━━━━━━━━━━━━━━━━\u001b[0m\u001b[37m\u001b[0m \u001b[1m0s\u001b[0m 2s/step - accuracy: 0.0883 - loss: 8.0063"
     ]
    },
    {
     "name": "stderr",
     "output_type": "stream",
     "text": [
      "I0000 00:00:1712658836.335290   95093 asm_compiler.cc:369] ptxas warning : Registers are spilled to local memory in function 'triton_gemm_dot_1542', 16 bytes spill stores, 16 bytes spill loads\n",
      "\n",
      "I0000 00:00:1712658836.779446   95117 asm_compiler.cc:369] ptxas warning : Registers are spilled to local memory in function 'triton_gemm_dot_1542', 244 bytes spill stores, 244 bytes spill loads\n",
      "\n",
      "I0000 00:00:1712658837.045361   95096 asm_compiler.cc:369] ptxas warning : Registers are spilled to local memory in function 'triton_gemm_dot_1542', 300 bytes spill stores, 184 bytes spill loads\n",
      "\n"
     ]
    },
    {
     "name": "stdout",
     "output_type": "stream",
     "text": [
      "\u001b[1m450/450\u001b[0m \u001b[32m━━━━━━━━━━━━━━━━━━━━\u001b[0m\u001b[37m\u001b[0m \u001b[1m939s\u001b[0m 2s/step - accuracy: 0.0883 - loss: 8.0013 - val_accuracy: 0.2880 - val_loss: 4.2230\n",
      "Epoch 2/100\n",
      "\u001b[1m450/450\u001b[0m \u001b[32m━━━━━━━━━━━━━━━━━━━━\u001b[0m\u001b[37m\u001b[0m \u001b[1m944s\u001b[0m 2s/step - accuracy: 0.1506 - loss: 4.5361 - val_accuracy: 0.3142 - val_loss: 3.9845\n",
      "Epoch 3/100\n",
      "\u001b[1m450/450\u001b[0m \u001b[32m━━━━━━━━━━━━━━━━━━━━\u001b[0m\u001b[37m\u001b[0m \u001b[1m933s\u001b[0m 2s/step - accuracy: 0.1752 - loss: 4.4037 - val_accuracy: 0.3348 - val_loss: 3.8961\n",
      "Epoch 4/100\n",
      "\u001b[1m450/450\u001b[0m \u001b[32m━━━━━━━━━━━━━━━━━━━━\u001b[0m\u001b[37m\u001b[0m \u001b[1m948s\u001b[0m 2s/step - accuracy: 0.1865 - loss: 4.3473 - val_accuracy: 0.3444 - val_loss: 3.8351\n",
      "Epoch 5/100\n",
      "\u001b[1m450/450\u001b[0m \u001b[32m━━━━━━━━━━━━━━━━━━━━\u001b[0m\u001b[37m\u001b[0m \u001b[1m0s\u001b[0m 2s/step - accuracy: 0.1955 - loss: 4.3229"
     ]
    },
    {
     "name": "stderr",
     "output_type": "stream",
     "text": [
      "/opt/mamba/lib/python3.11/site-packages/keras/src/callbacks/model_checkpoint.py:199: UserWarning: Can save best model only with val_loss available, skipping.\n",
      "  self._save_model(epoch=self._current_epoch, batch=batch, logs=logs)\n"
     ]
    },
    {
     "name": "stdout",
     "output_type": "stream",
     "text": [
      "\u001b[1m450/450\u001b[0m \u001b[32m━━━━━━━━━━━━━━━━━━━━\u001b[0m\u001b[37m\u001b[0m \u001b[1m963s\u001b[0m 2s/step - accuracy: 0.1955 - loss: 4.3229 - val_accuracy: 0.3472 - val_loss: 3.8080\n",
      "Epoch 6/100\n",
      "\u001b[1m450/450\u001b[0m \u001b[32m━━━━━━━━━━━━━━━━━━━━\u001b[0m\u001b[37m\u001b[0m \u001b[1m942s\u001b[0m 2s/step - accuracy: 0.1994 - loss: 4.3040 - val_accuracy: 0.3594 - val_loss: 3.7823\n",
      "Epoch 7/100\n",
      "\u001b[1m450/450\u001b[0m \u001b[32m━━━━━━━━━━━━━━━━━━━━\u001b[0m\u001b[37m\u001b[0m \u001b[1m932s\u001b[0m 2s/step - accuracy: 0.2037 - loss: 4.2827 - val_accuracy: 0.3706 - val_loss: 3.7573\n",
      "Epoch 8/100\n",
      "\u001b[1m450/450\u001b[0m \u001b[32m━━━━━━━━━━━━━━━━━━━━\u001b[0m\u001b[37m\u001b[0m \u001b[1m907s\u001b[0m 2s/step - accuracy: 0.2091 - loss: 4.2677 - val_accuracy: 0.3742 - val_loss: 3.7444\n",
      "Epoch 9/100\n",
      "\u001b[1m450/450\u001b[0m \u001b[32m━━━━━━━━━━━━━━━━━━━━\u001b[0m\u001b[37m\u001b[0m \u001b[1m900s\u001b[0m 2s/step - accuracy: 0.2133 - loss: 4.2634 - val_accuracy: 0.3694 - val_loss: 3.7375\n",
      "Epoch 10/100\n",
      "\u001b[1m450/450\u001b[0m \u001b[32m━━━━━━━━━━━━━━━━━━━━\u001b[0m\u001b[37m\u001b[0m \u001b[1m825s\u001b[0m 2s/step - accuracy: 0.2175 - loss: 4.2552 - val_accuracy: 0.3858 - val_loss: 3.7088\n",
      "Epoch 11/100\n",
      "\u001b[1m450/450\u001b[0m \u001b[32m━━━━━━━━━━━━━━━━━━━━\u001b[0m\u001b[37m\u001b[0m \u001b[1m891s\u001b[0m 2s/step - accuracy: 0.2173 - loss: 4.2393 - val_accuracy: 0.3718 - val_loss: 3.7147\n",
      "Epoch 12/100\n",
      "\u001b[1m450/450\u001b[0m \u001b[32m━━━━━━━━━━━━━━━━━━━━\u001b[0m\u001b[37m\u001b[0m \u001b[1m820s\u001b[0m 2s/step - accuracy: 0.2174 - loss: 4.2471 - val_accuracy: 0.3836 - val_loss: 3.7019\n",
      "Epoch 13/100\n",
      "\u001b[1m450/450\u001b[0m \u001b[32m━━━━━━━━━━━━━━━━━━━━\u001b[0m\u001b[37m\u001b[0m \u001b[1m832s\u001b[0m 2s/step - accuracy: 0.2172 - loss: 4.2397 - val_accuracy: 0.3876 - val_loss: 3.6878\n",
      "Epoch 14/100\n",
      "\u001b[1m450/450\u001b[0m \u001b[32m━━━━━━━━━━━━━━━━━━━━\u001b[0m\u001b[37m\u001b[0m \u001b[1m826s\u001b[0m 2s/step - accuracy: 0.2177 - loss: 4.2292 - val_accuracy: 0.3886 - val_loss: 3.6865\n",
      "Epoch 15/100\n",
      "\u001b[1m450/450\u001b[0m \u001b[32m━━━━━━━━━━━━━━━━━━━━\u001b[0m\u001b[37m\u001b[0m \u001b[1m827s\u001b[0m 2s/step - accuracy: 0.2224 - loss: 4.2220 - val_accuracy: 0.3940 - val_loss: 3.6718\n",
      "Epoch 16/100\n",
      "\u001b[1m450/450\u001b[0m \u001b[32m━━━━━━━━━━━━━━━━━━━━\u001b[0m\u001b[37m\u001b[0m \u001b[1m840s\u001b[0m 2s/step - accuracy: 0.2209 - loss: 4.2327 - val_accuracy: 0.3944 - val_loss: 3.6730\n",
      "Epoch 17/100\n",
      "\u001b[1m190/450\u001b[0m \u001b[32m━━━━━━━━\u001b[0m\u001b[37m━━━━━━━━━━━━\u001b[0m \u001b[1m7:44\u001b[0m 2s/step - accuracy: 0.2283 - loss: 4.2182"
     ]
    }
   ],
   "source": [
    "!mkdir -p sauvegardes\n",
    "model.compile(optimizer='adam', loss='categorical_crossentropy', metrics=['accuracy'])\n",
    "early_stopping_callback = EarlyStopping(monitor='val_loss', patience=7, restore_best_weights=True, start_from_epoch=20)\n",
    "csv_logger = CSVLogger(\"sauvegardes/modele_enseignant_logs.csv\", separator=\",\", append=False)\n",
    "model_checkpoint_callback = ModelCheckpoint(filepath=\"sauvegardes/modele_enseignant_checkpoint.keras\", monitor='val_loss', save_best_only=True)\n",
    "\n",
    "for layer in model.layers:\n",
    "    if layer.name == \"resnet50v2\":\n",
    "        layer.trainable = False\n",
    "    break\n",
    "model.fit(train_dataset, epochs=n_epoch, batch_size=batch_size, validation_data = validation_dataset, callbacks = [early_stopping_callback, csv_logger, model_checkpoint_callback])"
   ]
  },
  {
   "cell_type": "code",
   "execution_count": null,
   "id": "58fd2ac0-98ee-4c9b-8520-580b2fa96b93",
   "metadata": {},
   "outputs": [],
   "source": [
    "model.save(\"sauvegardes/modele_enseignant_transfert.keras\")"
   ]
  },
  {
   "cell_type": "code",
   "execution_count": null,
   "id": "8374e9fd-b542-4609-9c0c-fa5f30686bbe",
   "metadata": {},
   "outputs": [],
   "source": [
    "model.evaluate(test_dataset)"
   ]
  },
  {
   "cell_type": "code",
   "execution_count": null,
   "id": "e6dc0764-19a6-4ef8-a8a0-6dc13899d3b1",
   "metadata": {},
   "outputs": [],
   "source": [
    "model.trainable = True\n",
    "model.compile(optimizer=keras.optimizers.Adam(1e-5), loss='categorical_crossentropy', metrics=['accuracy'])\n",
    "csv_logger = CSVLogger(\"sauvegardes/modele_enseignant_logs.csv\", separator=\",\", append=True)\n",
    "early_stopping_callback = EarlyStopping(monitor='val_loss', patience=5, restore_best_weights=True)\n",
    "model_checkpoint_callback = ModelCheckpoint(filepath=\"sauvegardes/modele_enseignant_checkpoint.keras\", monitor='val_loss', save_best_only=True)\n",
    "model.fit(train_dataset, epochs=40, batch_size=batch_size, validation_data = validation_dataset, callbacks = [early_stopping_callback, csv_logger, model_checkpoint_callback])"
   ]
  },
  {
   "cell_type": "code",
   "execution_count": null,
   "id": "6963deaf-4cf0-4703-8c37-ba51cab015d9",
   "metadata": {},
   "outputs": [],
   "source": [
    "model.save(\"sauvegardes/modele_enseignant.keras\")"
   ]
  },
  {
   "cell_type": "code",
   "execution_count": null,
   "id": "s7P_Z0m4JxcI",
   "metadata": {
    "colab": {
     "base_uri": "https://localhost:8080/"
    },
    "id": "s7P_Z0m4JxcI",
    "outputId": "58957c0d-0f38-405a-8170-6e3ce4d3256e"
   },
   "outputs": [],
   "source": [
    "model.evaluate(test_dataset)"
   ]
  },
  {
   "cell_type": "code",
   "execution_count": null,
   "id": "wOxxhtWTVUag",
   "metadata": {
    "id": "wOxxhtWTVUag"
   },
   "outputs": [],
   "source": [
    "!mc cp /home/onyxia/work/projet_distillation_cnam/sauvegardes/modele_enseignant.keras s3/afeldmann/modele_enseignant.keras"
   ]
  },
  {
   "cell_type": "code",
   "execution_count": null,
   "id": "ae3c5bd7-127e-400d-aee8-2842ad9c1984",
   "metadata": {},
   "outputs": [],
   "source": []
  }
 ],
 "metadata": {
  "accelerator": "GPU",
  "colab": {
   "gpuType": "A100",
   "machine_shape": "hm",
   "provenance": []
  },
  "kernelspec": {
   "display_name": "Python 3 (ipykernel)",
   "language": "python",
   "name": "python3"
  },
  "language_info": {
   "codemirror_mode": {
    "name": "ipython",
    "version": 3
   },
   "file_extension": ".py",
   "mimetype": "text/x-python",
   "name": "python",
   "nbconvert_exporter": "python",
   "pygments_lexer": "ipython3",
   "version": "3.11.6"
  }
 },
 "nbformat": 4,
 "nbformat_minor": 5
}
