{
 "cells": [
  {
   "cell_type": "code",
   "execution_count": 82,
   "id": "5c807ab8-0cf2-4df4-82a1-e3306a8bda7e",
   "metadata": {},
   "outputs": [],
   "source": [
    "import numpy as np\n",
    "import matplotlib.pyplot as plt\n",
    "from keras.applications.resnet50 import ResNet50\n",
    "from keras.applications.resnet50 import preprocess_input\n",
    "from keras.datasets import cifar100\n",
    "from keras import Sequential\n",
    "from keras import Input\n",
    "from keras.layers import UpSampling2D\n",
    "from keras.layers import GlobalAveragePooling2D\n",
    "from keras.layers import Dense\n",
    "from keras.layers import Dropout\n",
    "from keras.layers import BatchNormalization\n",
    "from keras.utils import to_categorical\n",
    "from tensorflow.keras.callbacks import TensorBoard\n",
    "!mkdir ~/logs"
   ]
  },
  {
   "cell_type": "code",
   "execution_count": 84,
   "id": "35c445a8-5f01-4778-b05d-b621584968ed",
   "metadata": {},
   "outputs": [],
   "source": [
    "n_epoch = 300\n",
    "batch_size = 200"
   ]
  },
  {
   "cell_type": "code",
   "execution_count": 72,
   "id": "9a44d7d2-b92d-45c2-b811-b1665944a5ac",
   "metadata": {},
   "outputs": [],
   "source": [
    "(X_train, y_train), (X_test, y_test) = cifar100.load_data()\n",
    "\n",
    "X_train = preprocess_input(X_train)\n",
    "X_test = preprocess_input(X_test)\n",
    "y_train = to_categorical(y_train)\n",
    "y_test = to_categorical(y_test)\n",
    "\n",
    "num_classes = 100\n",
    "\n",
    "def split(X_train, y_train):\n",
    "    n_train = X_train.shape[0]\n",
    "    idx_train = np.arange(n_train)\n",
    "    idx_val = np.random.choice(n_train, int(0.05 * n_train), replace=False)\n",
    "    idx_train = np.delete(idx_train, idx_val)\n",
    "    return X_train[idx_val,:], y_train[idx_val,:], X_train[idx_train,:], y_train[idx_train,:]\n",
    "\n",
    "X_val, y_val, X_train, y_train = split(X_train, y_train)"
   ]
  },
  {
   "cell_type": "code",
   "execution_count": 81,
   "id": "8c9123f5-687c-49ce-a9b4-7ed21e0b97be",
   "metadata": {},
   "outputs": [],
   "source": [
    "model = Sequential([\n",
    "    Input((32, 32, 3)),\n",
    "    UpSampling2D(size=(7, 7)),\n",
    "    ResNet50(weights='imagenet', include_top=False),\n",
    "    GlobalAveragePooling2D(),\n",
    "    Dense(128, activation='relu'),\n",
    "    Dense(64, activation='relu'),\n",
    "    Dense(num_classes, activation='softmax')\n",
    "])"
   ]
  },
  {
   "cell_type": "code",
   "execution_count": 80,
   "id": "cf08ffea-0210-4684-aea3-b5aad163a5b6",
   "metadata": {},
   "outputs": [],
   "source": [
    "model.compile(loss='categorical_crossentropy',optimizer='adam',metrics=['accuracy'])"
   ]
  },
  {
   "cell_type": "code",
   "execution_count": null,
   "id": "e0a724f8-2849-48b8-b948-13194a4f8f78",
   "metadata": {},
   "outputs": [],
   "source": [
    "tensorboard_callback = TensorBoard(log_dir='~/logs')\n",
    "model.fit(X_train, y_train, epochs=n_epoch, batch_size=batch_size, validation_data=(X_val, y_val))"
   ]
  }
 ],
 "metadata": {
  "kernelspec": {
   "display_name": "Python 3 (ipykernel)",
   "language": "python",
   "name": "python3"
  },
  "language_info": {
   "codemirror_mode": {
    "name": "ipython",
    "version": 3
   },
   "file_extension": ".py",
   "mimetype": "text/x-python",
   "name": "python",
   "nbconvert_exporter": "python",
   "pygments_lexer": "ipython3",
   "version": "3.11.6"
  }
 },
 "nbformat": 4,
 "nbformat_minor": 5
}
